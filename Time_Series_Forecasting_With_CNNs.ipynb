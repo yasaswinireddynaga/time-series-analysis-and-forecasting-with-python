{
 "cells": [
  {
   "attachments": {},
   "cell_type": "markdown",
   "metadata": {},
   "source": [
    "# Time Series Analysis and Forecasting with CNNs"
   ]
  },
  {
   "attachments": {},
   "cell_type": "markdown",
   "metadata": {},
   "source": [
    "Convolutional Neural Network models, or CNNs for short, can be applied to time series forecasting. I will be presenting different type of scenarios that we usually come across during solving problems related with time series and the variety of CNN architectures that we can use to tackle them.\n",
    "\n",
    "Variety of time series related problems:\n",
    "- CNN Models for Univariate time series\n",
    "- CNN Models for Multivariate time series\n",
    "- CNN Models for Multistep time series\n",
    "- CNN Models for Multivariate and Multisteps time series\n"
   ]
  },
  {
   "attachments": {},
   "cell_type": "markdown",
   "metadata": {},
   "source": [
    "## Contents\n",
    "\n",
    "- Imports\n",
    "- Data Description\n",
    "- Load and Prepare the Dataset\n",
    "- Problem Framing\n",
    "- Solution Approach\n",
    "- Evaluation Metric \n",
    "- Train and Test sets\n",
    "- Modeling and Evaluation\n",
    "    - Univariate CNN Model\n",
    "    - Multi-channel CNN Model\n",
    "    - Multi-headed CNN  Model"
   ]
  },
  {
   "attachments": {},
   "cell_type": "markdown",
   "metadata": {},
   "source": [
    "## Imports"
   ]
  },
  {
   "cell_type": "code",
   "execution_count": 248,
   "metadata": {},
   "outputs": [],
   "source": [
    "import torch\n",
    "import torch.nn as nn\n",
    "import torch.nn.functional as F \n",
    "import numpy as np\n",
    "import matplotlib.pyplot as plt\n",
    "import pandas as pd\n",
    "from sklearn.metrics import mean_squared_error"
   ]
  },
  {
   "attachments": {},
   "cell_type": "markdown",
   "metadata": {},
   "source": [
    "## Data Description\n",
    "\n",
    "The Household Power Consumption dataset is a multivariate time series dataset that describes the electricity consumption for a single household over four years. The data was collected between December 2006 and November 2010 and observations of power consumption within the household were collected every minute. \n",
    "\n",
    "It is a multivariate series comprised of seven variables\n",
    "(besides the date and time); they are:\n",
    "\n",
    "- `global active power`: The total active power consumed by the household (kilowatts).\n",
    "- `global reactive power`: The total reactive power consumed by the household (kilowatts).  voltage: Average voltage (volts).\n",
    "- `global intensity`: Average current intensity (amps).\n",
    "- `sub metering 1`: Active energy for kitchen (watt-hours of active energy).\n",
    "- `sub metering 2`: Active energy for laundry (watt-hours of active energy).\n",
    "- `sub metering 3`: Active energy for climate control systems (watt-hours of active energy).\n"
   ]
  },
  {
   "attachments": {},
   "cell_type": "markdown",
   "metadata": {},
   "source": [
    "## Problem Framing\n",
    "\n",
    "> `Given some number of prior days of total daily power consumption, predict the next standard week of daily power consumption?`\n",
    "\n"
   ]
  },
  {
   "attachments": {},
   "cell_type": "markdown",
   "metadata": {},
   "source": [
    "## Solution Approach\n",
    "\n",
    "Since we have to do some kind of prediction for whole week or for each day for next 7 days, this framing of the problem is referred to as a multi-step time series forecasting problem, given the multiple forecast steps.\n",
    "\n",
    "A model that makes use of multiple input variables may be referred to as a multivariate multi-step time series forecasting model.\n",
    "\n",
    "This framing of the dataset also suggests that it would be useful to downsample the per-minute observations of power consumption to daily totals.\n"
   ]
  },
  {
   "attachments": {},
   "cell_type": "markdown",
   "metadata": {},
   "source": [
    "## Evaluation Metric Selection\n",
    "\n",
    "A forecast will be comprised of seven values, one for each day of the week ahead. It is common with multi-step forecasting problems to evaluate each forecasted time step separately. \n",
    "\n",
    "This is helpful for a few reasons:\n",
    "\n",
    "- To comment on the skill at a specific lead time (e.g. +1 day vs +3 days).\n",
    "- To contrast models based on their skills at different lead times (e.g. models good at +1 day vs models good at days +5).\n",
    "\n",
    "The units of the total power are kilowatts and it would be useful to have an error metric that was also in the same units. Both Root Mean Squared Error (RMSE) and Mean Absolute Error (MAE) fit this bill, although RMSE is more commonly used.\n"
   ]
  },
  {
   "attachments": {},
   "cell_type": "markdown",
   "metadata": {},
   "source": [
    "## Train and Test Sets\n",
    "\n",
    "We will use the first 3 years of data for training predictive models and the final year for evaluating models. \n",
    "\n",
    "The data in a given dataset will be divided into standard weeks. These are weeks that begin on a Sunday and end on a Saturday. This is a realistic and useful way for using the chosen framing of the model, where the power consumption for the week ahead can be predicted. \n",
    "\n",
    "It is also helpful with modeling, where models can be used to predict a specific day (e.g. Wednesday) or the entire sequence.\n"
   ]
  },
  {
   "cell_type": "markdown",
   "metadata": {},
   "source": [
    "## Load and Prepare the Dataset"
   ]
  },
  {
   "attachments": {},
   "cell_type": "markdown",
   "metadata": {},
   "source": [
    "**Data Loading**"
   ]
  },
  {
   "cell_type": "code",
   "execution_count": 459,
   "metadata": {},
   "outputs": [
    {
     "name": "stdout",
     "output_type": "stream",
     "text": [
      "--2024-01-28 14:12:17--  https://archive.ics.uci.edu/static/public/235/individual+household+electric+power+consumption.zip\n",
      "Resolving archive.ics.uci.edu (archive.ics.uci.edu)... 128.195.10.252\n",
      "Connecting to archive.ics.uci.edu (archive.ics.uci.edu)|128.195.10.252|:443... connected.\n",
      "HTTP request sent, awaiting response... 200 OK\n",
      "Length: unspecified\n",
      "Saving to: 'individual+household+electric+power+consumption.zip'\n",
      "\n",
      "tion.zip                [               <=>  ]   4.23M   284KB/s               ^C\n"
     ]
    }
   ],
   "source": [
    "!wget https://archive.ics.uci.edu/static/public/235/individual+household+electric+power+consumption.zip"
   ]
  },
  {
   "cell_type": "code",
   "execution_count": null,
   "metadata": {},
   "outputs": [],
   "source": [
    "df = pd.read_csv('data/household_power_consumption.txt', sep=';', header=0, low_memory=False, infer_datetime_format=True, parse_dates={'datetime':[0,1]}, index_col=['datetime'])"
   ]
  },
  {
   "cell_type": "code",
   "execution_count": null,
   "metadata": {},
   "outputs": [
    {
     "data": {
      "text/html": [
       "<div>\n",
       "<style scoped>\n",
       "    .dataframe tbody tr th:only-of-type {\n",
       "        vertical-align: middle;\n",
       "    }\n",
       "\n",
       "    .dataframe tbody tr th {\n",
       "        vertical-align: top;\n",
       "    }\n",
       "\n",
       "    .dataframe thead th {\n",
       "        text-align: right;\n",
       "    }\n",
       "</style>\n",
       "<table border=\"1\" class=\"dataframe\">\n",
       "  <thead>\n",
       "    <tr style=\"text-align: right;\">\n",
       "      <th></th>\n",
       "      <th>Global_active_power</th>\n",
       "      <th>Global_reactive_power</th>\n",
       "      <th>Voltage</th>\n",
       "      <th>Global_intensity</th>\n",
       "      <th>Sub_metering_1</th>\n",
       "      <th>Sub_metering_2</th>\n",
       "      <th>Sub_metering_3</th>\n",
       "    </tr>\n",
       "    <tr>\n",
       "      <th>datetime</th>\n",
       "      <th></th>\n",
       "      <th></th>\n",
       "      <th></th>\n",
       "      <th></th>\n",
       "      <th></th>\n",
       "      <th></th>\n",
       "      <th></th>\n",
       "    </tr>\n",
       "  </thead>\n",
       "  <tbody>\n",
       "    <tr>\n",
       "      <th>2006-12-16 17:24:00</th>\n",
       "      <td>4.216</td>\n",
       "      <td>0.418</td>\n",
       "      <td>234.840</td>\n",
       "      <td>18.400</td>\n",
       "      <td>0.000</td>\n",
       "      <td>1.000</td>\n",
       "      <td>17.0</td>\n",
       "    </tr>\n",
       "    <tr>\n",
       "      <th>2006-12-16 17:25:00</th>\n",
       "      <td>5.360</td>\n",
       "      <td>0.436</td>\n",
       "      <td>233.630</td>\n",
       "      <td>23.000</td>\n",
       "      <td>0.000</td>\n",
       "      <td>1.000</td>\n",
       "      <td>16.0</td>\n",
       "    </tr>\n",
       "    <tr>\n",
       "      <th>2006-12-16 17:26:00</th>\n",
       "      <td>5.374</td>\n",
       "      <td>0.498</td>\n",
       "      <td>233.290</td>\n",
       "      <td>23.000</td>\n",
       "      <td>0.000</td>\n",
       "      <td>2.000</td>\n",
       "      <td>17.0</td>\n",
       "    </tr>\n",
       "    <tr>\n",
       "      <th>2006-12-16 17:27:00</th>\n",
       "      <td>5.388</td>\n",
       "      <td>0.502</td>\n",
       "      <td>233.740</td>\n",
       "      <td>23.000</td>\n",
       "      <td>0.000</td>\n",
       "      <td>1.000</td>\n",
       "      <td>17.0</td>\n",
       "    </tr>\n",
       "    <tr>\n",
       "      <th>2006-12-16 17:28:00</th>\n",
       "      <td>3.666</td>\n",
       "      <td>0.528</td>\n",
       "      <td>235.680</td>\n",
       "      <td>15.800</td>\n",
       "      <td>0.000</td>\n",
       "      <td>1.000</td>\n",
       "      <td>17.0</td>\n",
       "    </tr>\n",
       "  </tbody>\n",
       "</table>\n",
       "</div>"
      ],
      "text/plain": [
       "                    Global_active_power Global_reactive_power  Voltage  \\\n",
       "datetime                                                                 \n",
       "2006-12-16 17:24:00               4.216                 0.418  234.840   \n",
       "2006-12-16 17:25:00               5.360                 0.436  233.630   \n",
       "2006-12-16 17:26:00               5.374                 0.498  233.290   \n",
       "2006-12-16 17:27:00               5.388                 0.502  233.740   \n",
       "2006-12-16 17:28:00               3.666                 0.528  235.680   \n",
       "\n",
       "                    Global_intensity Sub_metering_1 Sub_metering_2  \\\n",
       "datetime                                                             \n",
       "2006-12-16 17:24:00           18.400          0.000          1.000   \n",
       "2006-12-16 17:25:00           23.000          0.000          1.000   \n",
       "2006-12-16 17:26:00           23.000          0.000          2.000   \n",
       "2006-12-16 17:27:00           23.000          0.000          1.000   \n",
       "2006-12-16 17:28:00           15.800          0.000          1.000   \n",
       "\n",
       "                     Sub_metering_3  \n",
       "datetime                             \n",
       "2006-12-16 17:24:00            17.0  \n",
       "2006-12-16 17:25:00            16.0  \n",
       "2006-12-16 17:26:00            17.0  \n",
       "2006-12-16 17:27:00            17.0  \n",
       "2006-12-16 17:28:00            17.0  "
      ]
     },
     "metadata": {},
     "output_type": "display_data"
    }
   ],
   "source": [
    "df.head(5)"
   ]
  },
  {
   "cell_type": "code",
   "execution_count": null,
   "metadata": {},
   "outputs": [
    {
     "data": {
      "text/plain": [
       "(2075259, 7)"
      ]
     },
     "metadata": {},
     "output_type": "display_data"
    }
   ],
   "source": [
    "df.shape"
   ]
  },
  {
   "cell_type": "code",
   "execution_count": null,
   "metadata": {},
   "outputs": [
    {
     "data": {
      "text/plain": [
       "Index(['Global_active_power', 'Global_reactive_power', 'Voltage',\n",
       "       'Global_intensity', 'Sub_metering_1', 'Sub_metering_2',\n",
       "       'Sub_metering_3'],\n",
       "      dtype='object')"
      ]
     },
     "metadata": {},
     "output_type": "display_data"
    }
   ],
   "source": [
    "df.columns"
   ]
  },
  {
   "attachments": {},
   "cell_type": "markdown",
   "metadata": {},
   "source": [
    "**Missing Values Imputation**"
   ]
  },
  {
   "cell_type": "code",
   "execution_count": null,
   "metadata": {},
   "outputs": [
    {
     "data": {
      "text/plain": [
       "Global_active_power          0\n",
       "Global_reactive_power        0\n",
       "Voltage                      0\n",
       "Global_intensity             0\n",
       "Sub_metering_1               0\n",
       "Sub_metering_2               0\n",
       "Sub_metering_3           25979\n",
       "dtype: int64"
      ]
     },
     "metadata": {},
     "output_type": "display_data"
    }
   ],
   "source": [
    "df.isna().sum()"
   ]
  },
  {
   "cell_type": "markdown",
   "metadata": {},
   "source": [
    "We have a lot of missing values in `Sub_metering_3` column. Before proceeding further we need to impute them with some reasonable values.\n"
   ]
  },
  {
   "cell_type": "code",
   "execution_count": null,
   "metadata": {},
   "outputs": [
    {
     "data": {
      "text/plain": [
       "Global_active_power      None\n",
       "Global_reactive_power    None\n",
       "Voltage                  None\n",
       "Global_intensity         None\n",
       "Sub_metering_1           None\n",
       "Sub_metering_2           None\n",
       "Sub_metering_3           None\n",
       "dtype: object"
      ]
     },
     "metadata": {},
     "output_type": "display_data"
    }
   ],
   "source": [
    "df.replace('?', None, inplace=True)"
   ]
  },
  {
   "cell_type": "code",
   "execution_count": null,
   "metadata": {},
   "outputs": [
    {
     "data": {
      "text/plain": [
       "array([17., 16., 18.,  9.,  0.,  5., 19., 10., 20.,  8.,  4.,  2.,  3.,\n",
       "       11., 13.,  6., 15., nan, 12.,  1., 14.,  7., 23., 25., 26., 28.,\n",
       "       27., 21., 22., 29., 24., 30., 31.])"
      ]
     },
     "metadata": {},
     "output_type": "display_data"
    }
   ],
   "source": [
    "df['Sub_metering_3'].unique()"
   ]
  },
  {
   "cell_type": "code",
   "execution_count": null,
   "metadata": {},
   "outputs": [],
   "source": [
    "df['Sub_metering_3'] = df[['Sub_metering_3']].fillna(method=\"ffill\")\n",
    "df['Sub_metering_3'] = df[['Sub_metering_3']].fillna(method=\"bfill\")"
   ]
  },
  {
   "cell_type": "code",
   "execution_count": null,
   "metadata": {},
   "outputs": [
    {
     "data": {
      "text/plain": [
       "Global_active_power      0\n",
       "Global_reactive_power    0\n",
       "Voltage                  0\n",
       "Global_intensity         0\n",
       "Sub_metering_1           0\n",
       "Sub_metering_2           0\n",
       "Sub_metering_3           0\n",
       "dtype: int64"
      ]
     },
     "metadata": {},
     "output_type": "display_data"
    }
   ],
   "source": [
    "df.isna().sum()"
   ]
  },
  {
   "cell_type": "markdown",
   "metadata": {},
   "source": [
    "Ok so now we don't have any null values. Let's check for the data type."
   ]
  },
  {
   "cell_type": "code",
   "execution_count": null,
   "metadata": {},
   "outputs": [
    {
     "data": {
      "text/plain": [
       "Global_active_power       object\n",
       "Global_reactive_power     object\n",
       "Voltage                   object\n",
       "Global_intensity          object\n",
       "Sub_metering_1            object\n",
       "Sub_metering_2            object\n",
       "Sub_metering_3           float64\n",
       "dtype: object"
      ]
     },
     "metadata": {},
     "output_type": "display_data"
    }
   ],
   "source": [
    "df.dtypes"
   ]
  },
  {
   "attachments": {},
   "cell_type": "markdown",
   "metadata": {},
   "source": [
    "**Datatype Conversion**"
   ]
  },
  {
   "cell_type": "markdown",
   "metadata": {},
   "source": [
    "Most of the ML models expect data to be of `float32` type. "
   ]
  },
  {
   "cell_type": "code",
   "execution_count": null,
   "metadata": {},
   "outputs": [],
   "source": [
    "df = df.astype('float32')"
   ]
  },
  {
   "cell_type": "code",
   "execution_count": null,
   "metadata": {},
   "outputs": [
    {
     "data": {
      "text/plain": [
       "Global_active_power      float32\n",
       "Global_reactive_power    float32\n",
       "Voltage                  float32\n",
       "Global_intensity         float32\n",
       "Sub_metering_1           float32\n",
       "Sub_metering_2           float32\n",
       "Sub_metering_3           float32\n",
       "dtype: object"
      ]
     },
     "metadata": {},
     "output_type": "display_data"
    }
   ],
   "source": [
    "df.dtypes"
   ]
  },
  {
   "cell_type": "markdown",
   "metadata": {},
   "source": [
    "We are now done with data preparation part. We can move to do modeling."
   ]
  },
  {
   "attachments": {},
   "cell_type": "markdown",
   "metadata": {},
   "source": [
    "**Downsampling data to day level**"
   ]
  },
  {
   "cell_type": "code",
   "execution_count": 51,
   "metadata": {},
   "outputs": [
    {
     "data": {
      "text/html": [
       "<div>\n",
       "<style scoped>\n",
       "    .dataframe tbody tr th:only-of-type {\n",
       "        vertical-align: middle;\n",
       "    }\n",
       "\n",
       "    .dataframe tbody tr th {\n",
       "        vertical-align: top;\n",
       "    }\n",
       "\n",
       "    .dataframe thead th {\n",
       "        text-align: right;\n",
       "    }\n",
       "</style>\n",
       "<table border=\"1\" class=\"dataframe\">\n",
       "  <thead>\n",
       "    <tr style=\"text-align: right;\">\n",
       "      <th></th>\n",
       "      <th>Global_active_power</th>\n",
       "      <th>Global_reactive_power</th>\n",
       "      <th>Voltage</th>\n",
       "      <th>Global_intensity</th>\n",
       "      <th>Sub_metering_1</th>\n",
       "      <th>Sub_metering_2</th>\n",
       "      <th>Sub_metering_3</th>\n",
       "    </tr>\n",
       "    <tr>\n",
       "      <th>datetime</th>\n",
       "      <th></th>\n",
       "      <th></th>\n",
       "      <th></th>\n",
       "      <th></th>\n",
       "      <th></th>\n",
       "      <th></th>\n",
       "      <th></th>\n",
       "    </tr>\n",
       "  </thead>\n",
       "  <tbody>\n",
       "    <tr>\n",
       "      <th>2006-12-16</th>\n",
       "      <td>1209.176025</td>\n",
       "      <td>34.922001</td>\n",
       "      <td>93552.53125</td>\n",
       "      <td>5180.799805</td>\n",
       "      <td>0.0</td>\n",
       "      <td>546.0</td>\n",
       "      <td>4926.0</td>\n",
       "    </tr>\n",
       "    <tr>\n",
       "      <th>2006-12-17</th>\n",
       "      <td>3390.459961</td>\n",
       "      <td>226.005997</td>\n",
       "      <td>345725.31250</td>\n",
       "      <td>14398.599609</td>\n",
       "      <td>2033.0</td>\n",
       "      <td>4187.0</td>\n",
       "      <td>13341.0</td>\n",
       "    </tr>\n",
       "    <tr>\n",
       "      <th>2006-12-18</th>\n",
       "      <td>2203.825928</td>\n",
       "      <td>161.792007</td>\n",
       "      <td>347373.62500</td>\n",
       "      <td>9247.200195</td>\n",
       "      <td>1063.0</td>\n",
       "      <td>2621.0</td>\n",
       "      <td>14018.0</td>\n",
       "    </tr>\n",
       "  </tbody>\n",
       "</table>\n",
       "</div>"
      ],
      "text/plain": [
       "            Global_active_power  Global_reactive_power       Voltage  \\\n",
       "datetime                                                               \n",
       "2006-12-16          1209.176025              34.922001   93552.53125   \n",
       "2006-12-17          3390.459961             226.005997  345725.31250   \n",
       "2006-12-18          2203.825928             161.792007  347373.62500   \n",
       "\n",
       "            Global_intensity  Sub_metering_1  Sub_metering_2  Sub_metering_3  \n",
       "datetime                                                                      \n",
       "2006-12-16       5180.799805             0.0           546.0          4926.0  \n",
       "2006-12-17      14398.599609          2033.0          4187.0         13341.0  \n",
       "2006-12-18       9247.200195          1063.0          2621.0         14018.0  "
      ]
     },
     "execution_count": 51,
     "metadata": {},
     "output_type": "execute_result"
    }
   ],
   "source": [
    "# resample data to daily\n",
    "\n",
    "daily_df = df.resample('D')\n",
    "\n",
    "dataset = daily_df.sum()\n",
    "\n",
    "dataset.head(3)"
   ]
  },
  {
   "cell_type": "code",
   "execution_count": 53,
   "metadata": {},
   "outputs": [
    {
     "data": {
      "text/plain": [
       "array([[1.20917603e+03, 3.49220009e+01, 9.35525312e+04, ...,\n",
       "        0.00000000e+00, 5.46000000e+02, 4.92600000e+03],\n",
       "       [3.39045996e+03, 2.26005997e+02, 3.45725312e+05, ...,\n",
       "        2.03300000e+03, 4.18700000e+03, 1.33410000e+04],\n",
       "       [2.20382593e+03, 1.61792007e+02, 3.47373625e+05, ...,\n",
       "        1.06300000e+03, 2.62100000e+03, 1.40180000e+04],\n",
       "       ...,\n",
       "       [1.79624805e+03, 1.32460007e+02, 3.45644594e+05, ...,\n",
       "        1.09600000e+03, 2.84800000e+03, 1.22240000e+04],\n",
       "       [1.43116394e+03, 1.16127998e+02, 3.47812219e+05, ...,\n",
       "        1.07600000e+03, 4.26000000e+02, 5.07200000e+03],\n",
       "       [1.48810400e+03, 1.20826004e+02, 3.03487562e+05, ...,\n",
       "        1.08000000e+03, 3.85000000e+02, 9.98900000e+03]], dtype=float32)"
      ]
     },
     "execution_count": 53,
     "metadata": {},
     "output_type": "execute_result"
    }
   ],
   "source": [
    "dataset.values"
   ]
  },
  {
   "attachments": {},
   "cell_type": "markdown",
   "metadata": {},
   "source": [
    "**Train and Test Split**\n",
    "\n",
    "The final year of the data is in 2010 and the first Sunday for 2010 was January 3rd. The data ends in mid November 2010 and the closest final Saturday in the data is November 20th. This gives 46 weeks of test data.\n",
    "\n",
    "The function split dataset() below splits the daily data into train and test sets and organizes each into standard weeks. Specific row offsets are used to split the data using knowledge of the dataset.\n",
    "\n",
    "The split datasets are then organized into weekly data using the `NumPy` `split()` function.\n"
   ]
  },
  {
   "cell_type": "code",
   "execution_count": 76,
   "metadata": {},
   "outputs": [],
   "source": [
    "from numpy import array, split"
   ]
  },
  {
   "cell_type": "code",
   "execution_count": 80,
   "metadata": {},
   "outputs": [],
   "source": [
    "def split_dataset(data):\n",
    "    #split into standard weeks\n",
    "    train, test = data[1:-328], data[-328:-6]\n",
    "    train = torch.tensor(split(train, len(train)/7))\n",
    "    test = torch.tensor(split(test, len(test)/7))\n",
    "\n",
    "    return train, test"
   ]
  },
  {
   "cell_type": "code",
   "execution_count": 82,
   "metadata": {},
   "outputs": [
    {
     "name": "stdout",
     "output_type": "stream",
     "text": [
      "torch.Size([159, 7, 7])\n",
      "tensor(3390.4600) tensor(1311.8060)\n",
      "torch.Size([46, 7, 7])\n",
      "tensor(2083.4541) tensor(2197.0061)\n"
     ]
    }
   ],
   "source": [
    "\n",
    "train, test = split_dataset(dataset.values)\n",
    "\n",
    "# validate train data\n",
    "print(train.shape)\n",
    "print(train[0, 0, 0], train[-1, -1, 0])\n",
    "# validate test\n",
    "print(test.shape)\n",
    "print(test[0, 0, 0], test[-1, -1, 0])"
   ]
  },
  {
   "attachments": {},
   "cell_type": "markdown",
   "metadata": {},
   "source": [
    "## Univariate CNN Model\n",
    "\n",
    "In this section, we will develop a convolutional neural network for multi-step time series forecasting using only the univariate sequence of daily power consumption.\n",
    "\n",
    "Basically here we want to answer:\n",
    "\n",
    "> `Given some number of prior days of total daily power consumption, predict the next standard week of daily power consumption?`\n",
    "\n",
    "**Time Series To Supervised Learning Data Preparation**\n",
    "\n",
    "A `1D` CNN model expects data to have the shape of: `[samples, timesteps, features]`. One sample will be comprised of seven time steps with one feature for the seven days of total daily power consumed. The training dataset has 159 weeks of data, so the shape of the training dataset would be: `[159, 7, 1]`.\n",
    "\n",
    "The training data is provided in standard weeks with eight variables, specifically in the shape `[159, 7, 8]`. The first step is to flatten the data so that we have eight time series sequences.\n",
    "\n",
    "We then need to iterate over the time steps and divide the data into overlapping windows; each iteration moves along one time step and predicts the subsequent seven days. \n",
    "\n",
    "For example:\n",
    "\n",
    "`Input, Output`\n",
    "\n",
    "`[d01, d02, d03, d04, d05, d06, d07], [d08, d09, d10, d11, d12, d13, d14]`\n",
    "\n",
    "`[d02, d03, d04, d05, d06, d07, d08], [d09, d10, d11, d12, d13, d14, d15] ...`"
   ]
  },
  {
   "cell_type": "code",
   "execution_count": 111,
   "metadata": {},
   "outputs": [
    {
     "data": {
      "text/plain": [
       "[array([1, 2]), array([3, 4])]"
      ]
     },
     "execution_count": 111,
     "metadata": {},
     "output_type": "execute_result"
    }
   ],
   "source": [
    "x = array([1, 2, 3, 4])\n",
    "x.shape\n",
    "split(x, 2)"
   ]
  },
  {
   "cell_type": "code",
   "execution_count": 112,
   "metadata": {},
   "outputs": [],
   "source": [
    "def to_supervised(train, n_input, n_out=7):\n",
    "    \"\"\"\n",
    "    \n",
    "    input - a list of weeks (history) and the number of time steps to use as inputs outputs \n",
    "    returns - the data in the overlapping moving window format.\n",
    "    \n",
    "    \"\"\"\n",
    "    #flatten data\n",
    "    data = train.reshape(train.shape[0]*train.shape[1], train.shape[2])\n",
    "    X, y = [], []\n",
    "    in_start = 0\n",
    "\n",
    "    for _ in range(len(data)):\n",
    "\n",
    "        #define the end of the input sequence\n",
    "        in_end = in_start + n_input\n",
    "        out_end = in_end + n_out\n",
    "\n",
    "        #ensure we have all the data for that window\n",
    "        if out_end < len(data):\n",
    "            x_input = data[in_start:in_end, 0]\n",
    "            x_input = x_input.view((len(x_input), 1))\n",
    "            X.append(x_input)\n",
    "            y.append(data[in_end:out_end, 0])\n",
    "        # move along one time step\n",
    "        in_start += 1\n",
    "    return torch.tensor(X), torch.tensor(y)\n",
    "\n",
    "    "
   ]
  },
  {
   "cell_type": "code",
   "execution_count": 123,
   "metadata": {},
   "outputs": [
    {
     "data": {
      "text/plain": [
       "torch.Size([1099, 7, 1])"
      ]
     },
     "execution_count": 123,
     "metadata": {},
     "output_type": "execute_result"
    }
   ],
   "source": [
    "X, y = to_supervised(train, 7, 7)\n",
    "X.shape"
   ]
  },
  {
   "attachments": {},
   "cell_type": "markdown",
   "metadata": {},
   "source": [
    "When we run the above function on the entire training dataset, we transform `159` samples into `1,099`; specifically, the transformed dataset has the shapes `X=[1099, 7, 1]` and `y=[1099, 7]`."
   ]
  },
  {
   "cell_type": "code",
   "execution_count": 120,
   "metadata": {},
   "outputs": [
    {
     "data": {
      "text/plain": [
       "array([[3.3904600e+03, 2.2600600e+02, 3.4572531e+05, 1.4398600e+04,\n",
       "        2.0330000e+03, 4.1870000e+03, 1.3341000e+04],\n",
       "       [2.2038259e+03, 1.6179201e+02, 3.4737362e+05, 9.2472002e+03,\n",
       "        1.0630000e+03, 2.6210000e+03, 1.4018000e+04],\n",
       "       [1.6661940e+03, 1.5094200e+02, 3.4847900e+05, 7.0940000e+03,\n",
       "        8.3900000e+02, 7.6020000e+03, 6.1970000e+03],\n",
       "       [2.2257480e+03, 1.6099800e+02, 3.4892362e+05, 9.3130000e+03,\n",
       "        0.0000000e+00, 2.6480000e+03, 1.4063000e+04],\n",
       "       [1.7171121e+03, 1.4416600e+02, 3.4710088e+05, 7.2406001e+03,\n",
       "        1.7650000e+03, 2.6230000e+03, 1.0421000e+04],\n",
       "       [2.3413379e+03, 1.8690601e+02, 3.4730575e+05, 9.8970000e+03,\n",
       "        3.1510000e+03, 3.5000000e+02, 1.1131000e+04],\n",
       "       [4.7733862e+03, 2.2147000e+02, 3.4579594e+05, 2.0200400e+04,\n",
       "        2.6690000e+03, 4.2500000e+02, 1.4726000e+04]], dtype=float32)"
      ]
     },
     "execution_count": 120,
     "metadata": {},
     "output_type": "execute_result"
    }
   ],
   "source": [
    "train[0]"
   ]
  },
  {
   "attachments": {},
   "cell_type": "markdown",
   "metadata": {},
   "source": [
    "Next, we can define and fit the CNN model on the training data. This multi-step time series forecasting problem is an autoregression\n",
    "\n",
    "**Model Architecture**\n",
    "\n",
    "- convolution layer with 16 filters and kernel size = 3\n",
    "- Relu activation function\n",
    "- A pooling layer\n",
    "- Flattening\n",
    "- Linear layer with 10 nodes\n",
    "- Relu activation function\n",
    "- Linear layer with `n_out` nodes\n",
    "- `MSE` as loss function\n",
    "- Optimizer - `Adam`\n"
   ]
  },
  {
   "cell_type": "code",
   "execution_count": 168,
   "metadata": {},
   "outputs": [],
   "source": [
    "#define model\n",
    "\n",
    "class UnivariateCNNModel(nn.Module):\n",
    "\n",
    "    def __init__(self, n_timestamp, n_features) -> None:\n",
    "        super().__init__()\n",
    "        self.conv_net = nn.Sequential(\n",
    "                nn.Conv1d(in_channels=n_features, out_channels=16, kernel_size=3),\n",
    "                nn.ReLU(),\n",
    "                nn.MaxPool1d(kernel_size=2),\n",
    "            )\n",
    "        self.flt_layer = nn.Flatten()\n",
    "        self.ln_layer = nn.Sequential(\n",
    "                nn.Linear(in_features=32, out_features=10), \n",
    "                nn.ReLU(), \n",
    "                nn.Linear(in_features=10, out_features=n_timestamp)\n",
    "            )\n",
    "    def forward(self, X):\n",
    "        #X -> (B, T, C)\n",
    "        B, T, C = X.shape\n",
    "        X = X.view(B, C, T)\n",
    "        X = self.conv_net(X)\n",
    "        # print(X.shape)\n",
    "        X = self.flt_layer(X)\n",
    "        X = self.ln_layer(X)\n",
    "\n",
    "        return X\n",
    "\n",
    "#define variables\n",
    "n_timestamp = 7\n",
    "n_features = 1\n",
    "\n",
    "model = UnivariateCNNModel(n_timestamp, n_features)\n"
   ]
  },
  {
   "cell_type": "code",
   "execution_count": 169,
   "metadata": {},
   "outputs": [
    {
     "data": {
      "text/plain": [
       "tensor([[ -88.9717,   -7.9742, -253.7858,  ...,    9.3355,  174.4473,\n",
       "          -49.3912],\n",
       "        [ -58.1965,  -61.4020, -247.2206,  ...,   45.9940,   78.5566,\n",
       "          -46.1676],\n",
       "        [ -44.2537,  -41.0751, -225.0095,  ...,   33.9901,   94.1954,\n",
       "          -52.4452],\n",
       "        ...,\n",
       "        [ -98.6096,  -11.7230, -228.2829,  ...,   11.5513,  130.4908,\n",
       "          -65.4323],\n",
       "        [ -48.2699,    8.9337, -159.6686,  ...,   15.1565,  108.5201,\n",
       "          -36.7259],\n",
       "        [-112.3470,    9.1581, -229.3958,  ...,   20.7558,  136.7785,\n",
       "          -46.3908]], grad_fn=<AddmmBackward0>)"
      ]
     },
     "execution_count": 169,
     "metadata": {},
     "output_type": "execute_result"
    }
   ],
   "source": [
    "#check the output from untrained mode just for sanity check\n",
    "model(X)"
   ]
  },
  {
   "attachments": {},
   "cell_type": "markdown",
   "metadata": {},
   "source": [
    "**Define the optimizer and loss**"
   ]
  },
  {
   "cell_type": "code",
   "execution_count": 170,
   "metadata": {},
   "outputs": [],
   "source": [
    "optimizer = torch.optim.Adam(model.parameters(), lr=1e-3)\n",
    "\n",
    "criterion = torch.nn.MSELoss()"
   ]
  },
  {
   "cell_type": "code",
   "execution_count": 171,
   "metadata": {},
   "outputs": [
    {
     "data": {
      "text/plain": [
       "tensor(2977705.7500, grad_fn=<MseLossBackward0>)"
      ]
     },
     "execution_count": 171,
     "metadata": {},
     "output_type": "execute_result"
    }
   ],
   "source": [
    "#check loss for untrained model\n",
    "y_pred = model(X)\n",
    "criterion(y_pred, y)"
   ]
  },
  {
   "attachments": {},
   "cell_type": "markdown",
   "metadata": {},
   "source": [
    "**Model's Training**\n",
    "\n"
   ]
  },
  {
   "cell_type": "code",
   "execution_count": 172,
   "metadata": {},
   "outputs": [
    {
     "name": "stdout",
     "output_type": "stream",
     "text": [
      "n_timesteps : 7, n_features : 1, n_outputs : 7\n"
     ]
    }
   ],
   "source": [
    "\n",
    "n_timesteps, n_features, n_outputs = X.shape[1], X.shape[2], y.shape[1]\n",
    "\n",
    "print(f\"n_timesteps : {n_timesteps}, n_features : {n_features}, n_outputs : {n_outputs}\")\n"
   ]
  },
  {
   "attachments": {},
   "cell_type": "markdown",
   "metadata": {},
   "source": [
    "**Training Loop**"
   ]
  },
  {
   "cell_type": "code",
   "execution_count": 173,
   "metadata": {},
   "outputs": [
    {
     "name": "stdout",
     "output_type": "stream",
     "text": [
      "2977705.75\n",
      "2965815.5\n",
      "2953951.25\n",
      "2942164.75\n",
      "2930417.5\n",
      "2918724.75\n",
      "2907119.0\n",
      "2895588.25\n",
      "2884119.75\n",
      "2872727.25\n",
      "2861421.0\n",
      "2850182.5\n",
      "2839007.25\n",
      "2827873.0\n",
      "2816739.5\n",
      "2805646.0\n",
      "2794545.5\n",
      "2783444.75\n",
      "2772320.5\n",
      "2761181.75\n",
      "2750000.25\n",
      "2738749.5\n",
      "2727419.25\n",
      "2715972.75\n",
      "2704384.5\n",
      "2692636.0\n",
      "2680690.75\n",
      "2668549.25\n",
      "2656195.75\n",
      "2643591.0\n",
      "2630704.75\n",
      "2617522.0\n",
      "2603997.25\n",
      "2590070.25\n",
      "2575726.5\n",
      "2560923.75\n",
      "2545606.25\n",
      "2529744.0\n",
      "2513264.5\n",
      "2496127.75\n",
      "2478281.75\n",
      "2459632.25\n",
      "2440153.25\n",
      "2419811.25\n",
      "2398541.75\n",
      "2376347.25\n",
      "2353208.75\n",
      "2329074.5\n",
      "2303975.5\n",
      "2277922.25\n",
      "2250898.0\n",
      "2222897.75\n",
      "2193913.0\n",
      "2163932.0\n",
      "2132949.5\n",
      "2100957.75\n",
      "2067946.625\n",
      "2033946.0\n",
      "1998937.0\n",
      "1962917.625\n",
      "1925897.375\n",
      "1887916.5\n",
      "1848983.0\n",
      "1809121.5\n",
      "1768341.875\n",
      "1726718.75\n",
      "1684257.625\n",
      "1641018.25\n",
      "1597070.25\n",
      "1552476.75\n",
      "1507299.25\n",
      "1461580.625\n",
      "1415377.0\n",
      "1368796.0\n",
      "1321985.25\n",
      "1275028.125\n",
      "1228048.75\n",
      "1181188.375\n",
      "1134563.0\n",
      "1088318.5\n",
      "1042561.9375\n",
      "997463.625\n",
      "953177.875\n",
      "909842.25\n",
      "867625.3125\n",
      "826670.5625\n",
      "787105.875\n",
      "749079.1875\n",
      "712694.9375\n",
      "678069.4375\n",
      "645253.375\n",
      "614356.3125\n",
      "585416.75\n",
      "558553.1875\n",
      "533816.375\n",
      "511223.75\n",
      "490811.875\n",
      "472605.03125\n",
      "456567.46875\n",
      "442616.125\n",
      "430630.875\n",
      "420450.15625\n",
      "411860.78125\n",
      "404642.75\n",
      "398555.25\n",
      "393355.84375\n",
      "388812.40625\n",
      "384714.9375\n",
      "380878.28125\n",
      "377149.09375\n",
      "373420.78125\n",
      "369626.09375\n",
      "365731.0\n",
      "361730.0\n",
      "357647.0625\n",
      "353511.09375\n",
      "349368.21875\n",
      "345267.0625\n",
      "341250.28125\n",
      "337360.21875\n",
      "333637.15625\n",
      "330108.15625\n",
      "326795.21875\n",
      "323712.15625\n",
      "320862.71875\n",
      "318245.8125\n",
      "315853.9375\n",
      "313675.25\n",
      "311695.53125\n",
      "309898.3125\n",
      "308266.5\n",
      "306783.09375\n",
      "305432.0625\n",
      "304198.75\n",
      "303069.65625\n",
      "302033.0\n",
      "301079.59375\n",
      "300200.71875\n",
      "299388.4375\n",
      "298641.5\n",
      "297953.5\n",
      "297319.5\n",
      "296737.90625\n",
      "296206.53125\n",
      "295723.25\n",
      "295285.96875\n",
      "294892.5\n",
      "294540.53125\n",
      "294227.4375\n",
      "293950.5625\n",
      "293706.90625\n",
      "293493.3125\n",
      "293306.0625\n",
      "293142.4375\n",
      "292999.25\n",
      "292873.53125\n",
      "292762.46875\n",
      "292663.4375\n",
      "292574.125\n",
      "292492.5\n",
      "292416.84375\n",
      "292345.96875\n",
      "292278.71875\n",
      "292214.34375\n",
      "292152.34375\n",
      "292092.28125\n",
      "292033.875\n",
      "291977.1875\n",
      "291922.0625\n",
      "291868.53125\n",
      "291816.5625\n",
      "291766.21875\n",
      "291717.34375\n",
      "291669.84375\n",
      "291623.625\n",
      "291578.5625\n",
      "291534.59375\n",
      "291491.34375\n",
      "291448.71875\n",
      "291406.5625\n",
      "291364.71875\n",
      "291322.9375\n",
      "291281.15625\n",
      "291239.21875\n",
      "291196.96875\n",
      "291154.5\n",
      "291111.6875\n",
      "291068.5625\n",
      "291025.15625\n",
      "290981.40625\n",
      "290937.46875\n",
      "290893.46875\n",
      "290849.34375\n",
      "290805.03125\n",
      "290760.53125\n",
      "290715.90625\n",
      "290671.15625\n",
      "290626.40625\n",
      "290581.53125\n",
      "290536.6875\n",
      "290491.71875\n",
      "290446.6875\n",
      "290401.5625\n",
      "290356.3125\n",
      "290310.96875\n",
      "290265.53125\n",
      "290219.9375\n",
      "290174.28125\n",
      "290128.53125\n",
      "290082.53125\n",
      "290036.3125\n",
      "289989.96875\n",
      "289943.34375\n",
      "289896.46875\n",
      "289849.34375\n",
      "289801.90625\n",
      "289754.15625\n",
      "289706.28125\n",
      "289658.25\n",
      "289609.96875\n",
      "289561.3125\n",
      "289512.53125\n",
      "289463.5625\n",
      "289414.3125\n",
      "289364.6875\n",
      "289314.875\n",
      "289264.75\n",
      "289214.375\n",
      "289163.6875\n",
      "289112.75\n",
      "289061.6875\n",
      "289010.3125\n",
      "288958.71875\n",
      "288906.5\n",
      "288853.71875\n",
      "288799.90625\n",
      "288745.3125\n",
      "288689.875\n",
      "288633.75\n",
      "288576.6875\n",
      "288518.8125\n",
      "288460.125\n",
      "288400.625\n",
      "288340.625\n",
      "288280.0625\n",
      "288218.75\n",
      "288156.625\n",
      "288093.6875\n",
      "288029.625\n",
      "287966.75\n",
      "287904.65625\n",
      "287842.5625\n",
      "287779.53125\n",
      "287715.40625\n",
      "287648.96875\n",
      "287581.15625\n",
      "287511.15625\n",
      "287439.84375\n",
      "287366.75\n",
      "287292.15625\n",
      "287214.625\n",
      "287133.125\n",
      "287050.09375\n",
      "286962.34375\n",
      "286871.3125\n",
      "286776.625\n",
      "286678.8125\n",
      "286577.6875\n",
      "286474.46875\n",
      "286374.125\n",
      "286280.90625\n",
      "286185.75\n",
      "286090.625\n",
      "285990.90625\n",
      "285890.96875\n",
      "285792.5\n",
      "285694.28125\n",
      "285594.0625\n",
      "285492.5\n",
      "285389.21875\n",
      "285288.34375\n",
      "285188.8125\n",
      "285089.0625\n",
      "284987.34375\n",
      "284882.78125\n",
      "284778.125\n",
      "284674.71875\n",
      "284569.4375\n",
      "284462.90625\n",
      "284355.09375\n",
      "284246.125\n",
      "284136.53125\n",
      "284026.25\n",
      "283915.09375\n",
      "283806.5625\n",
      "283698.5625\n",
      "283590.875\n",
      "283483.0\n",
      "283375.15625\n",
      "283269.15625\n",
      "283164.75\n",
      "283060.6875\n",
      "282956.90625\n",
      "282855.8125\n",
      "282755.375\n",
      "282656.71875\n",
      "282558.28125\n",
      "282460.5625\n",
      "282363.40625\n",
      "282266.8125\n",
      "282171.375\n",
      "282077.1875\n",
      "281984.21875\n",
      "281892.75\n",
      "281803.4375\n",
      "281714.875\n",
      "281627.34375\n",
      "281540.53125\n",
      "281455.25\n",
      "281374.6875\n",
      "281295.0625\n",
      "281216.28125\n",
      "281138.3125\n",
      "281061.15625\n",
      "280984.78125\n",
      "280909.09375\n",
      "280834.28125\n",
      "280760.09375\n",
      "280686.625\n",
      "280613.84375\n",
      "280541.71875\n",
      "280470.96875\n",
      "280401.1875\n",
      "280332.3125\n",
      "280264.0\n",
      "280196.25\n",
      "280129.15625\n",
      "280062.84375\n",
      "279997.1875\n",
      "279931.9375\n",
      "279867.28125\n",
      "279803.34375\n",
      "279740.125\n",
      "279677.375\n",
      "279615.0625\n",
      "279553.46875\n",
      "279492.53125\n",
      "279432.375\n",
      "279372.78125\n",
      "279313.78125\n",
      "279255.84375\n",
      "279198.53125\n",
      "279141.78125\n",
      "279085.8125\n",
      "279030.65625\n",
      "278975.90625\n",
      "278921.53125\n",
      "278867.6875\n",
      "278814.4375\n",
      "278761.75\n",
      "278709.75\n",
      "278658.5\n",
      "278607.75\n",
      "278557.625\n",
      "278508.1875\n",
      "278459.0625\n",
      "278410.40625\n",
      "278362.1875\n",
      "278314.46875\n",
      "278267.375\n",
      "278220.625\n",
      "278174.3125\n",
      "278128.4375\n",
      "278082.9375\n",
      "278037.875\n",
      "277993.21875\n",
      "277948.9375\n",
      "277905.09375\n",
      "277861.65625\n",
      "277818.625\n",
      "277776.0\n",
      "277733.71875\n",
      "277692.0\n",
      "277650.59375\n",
      "277609.40625\n",
      "277568.75\n",
      "277528.46875\n",
      "277488.5\n",
      "277448.9375\n",
      "277409.625\n",
      "277370.6875\n",
      "277332.34375\n",
      "277294.0625\n",
      "277256.0625\n",
      "277218.5625\n",
      "277181.34375\n",
      "277144.375\n",
      "277107.78125\n",
      "277071.40625\n",
      "277035.625\n",
      "277000.0\n",
      "276964.46875\n",
      "276929.4375\n",
      "276894.65625\n",
      "276860.09375\n",
      "276825.90625\n",
      "276791.84375\n",
      "276758.28125\n",
      "276725.0\n",
      "276691.9375\n",
      "276659.125\n",
      "276626.5\n",
      "276594.15625\n",
      "276562.0625\n",
      "276530.3125\n",
      "276498.65625\n",
      "276467.21875\n",
      "276435.96875\n",
      "276404.96875\n",
      "276374.40625\n",
      "276343.9375\n",
      "276313.75\n",
      "276284.0625\n",
      "276254.59375\n",
      "276225.3125\n",
      "276196.34375\n",
      "276167.5625\n",
      "276139.03125\n",
      "276110.78125\n",
      "276082.6875\n",
      "276054.75\n",
      "276027.09375\n",
      "275999.65625\n",
      "275972.3125\n",
      "275945.25\n",
      "275918.40625\n",
      "275891.75\n",
      "275865.1875\n",
      "275838.96875\n",
      "275812.90625\n",
      "275786.90625\n",
      "275760.96875\n",
      "275735.3125\n",
      "275709.875\n",
      "275684.625\n",
      "275659.53125\n",
      "275634.5\n",
      "275609.59375\n",
      "275585.09375\n",
      "275560.53125\n",
      "275535.9375\n",
      "275511.71875\n",
      "275487.59375\n",
      "275463.5\n",
      "275439.71875\n",
      "275415.84375\n",
      "275391.96875\n",
      "275368.40625\n",
      "275344.875\n",
      "275321.4375\n",
      "275298.375\n",
      "275275.28125\n",
      "275252.03125\n",
      "275229.1875\n",
      "275206.3125\n",
      "275183.6875\n",
      "275160.96875\n",
      "275138.625\n",
      "275116.28125\n",
      "275093.875\n",
      "275071.5625\n",
      "275049.34375\n",
      "275027.46875\n",
      "275005.71875\n",
      "274984.0\n",
      "274962.34375\n",
      "274940.75\n",
      "274919.5625\n",
      "274898.4375\n",
      "274877.375\n",
      "274856.5\n",
      "274835.6875\n",
      "274814.9375\n",
      "274794.25\n",
      "274773.9375\n",
      "274753.5625\n",
      "274733.1875\n",
      "274713.21875\n",
      "274693.1875\n",
      "274673.09375\n",
      "274653.0625\n",
      "274633.46875\n",
      "274613.75\n",
      "274593.9375\n",
      "274574.40625\n",
      "274554.8125\n",
      "274535.3125\n",
      "274515.84375\n",
      "274496.6875\n",
      "274477.5625\n",
      "274458.46875\n",
      "274439.6875\n",
      "274421.09375\n",
      "274402.5625\n",
      "274383.9375\n",
      "274365.46875\n",
      "274347.03125\n",
      "274328.84375\n",
      "274310.4375\n",
      "274292.3125\n",
      "274274.15625\n",
      "274256.21875\n",
      "274238.25\n",
      "274220.40625\n",
      "274202.59375\n",
      "274184.8125\n",
      "274167.125\n",
      "274149.59375\n",
      "274131.96875\n",
      "274114.46875\n",
      "274097.0625\n",
      "274079.71875\n",
      "274062.5\n",
      "274045.28125\n",
      "274028.15625\n",
      "274011.0\n",
      "273993.90625\n",
      "273976.84375\n",
      "273960.09375\n",
      "273943.03125\n",
      "273926.25\n",
      "273909.625\n",
      "273892.9375\n",
      "273876.3125\n",
      "273859.625\n",
      "273843.0\n",
      "273826.46875\n",
      "273810.1875\n",
      "273793.84375\n",
      "273777.53125\n",
      "273761.375\n",
      "273745.34375\n",
      "273729.3125\n",
      "273713.3125\n",
      "273697.34375\n",
      "273681.40625\n",
      "273665.5\n",
      "273649.75\n",
      "273634.375\n",
      "273618.75\n",
      "273603.125\n",
      "273587.75\n",
      "273572.40625\n",
      "273557.0625\n",
      "273541.71875\n",
      "273526.34375\n",
      "273510.96875\n",
      "273495.9375\n",
      "273480.6875\n",
      "273465.40625\n",
      "273450.375\n",
      "273435.3125\n",
      "273420.3125\n",
      "273405.25\n",
      "273390.21875\n",
      "273375.3125\n",
      "273360.34375\n",
      "273345.46875\n",
      "273330.6875\n",
      "273315.875\n",
      "273301.1875\n",
      "273286.4375\n",
      "273271.71875\n",
      "273256.96875\n",
      "273242.3125\n",
      "273228.0625\n",
      "273213.28125\n",
      "273198.8125\n",
      "273184.375\n",
      "273170.03125\n",
      "273155.625\n",
      "273141.28125\n",
      "273126.9375\n",
      "273112.625\n",
      "273098.34375\n",
      "273084.125\n",
      "273069.875\n",
      "273055.71875\n",
      "273041.59375\n",
      "273027.46875\n",
      "273013.3125\n",
      "272999.1875\n",
      "272985.09375\n",
      "272971.0\n",
      "272956.96875\n",
      "272942.96875\n",
      "272928.96875\n",
      "272915.03125\n",
      "272901.125\n",
      "272887.21875\n",
      "272873.34375\n",
      "272859.46875\n",
      "272845.625\n",
      "272831.75\n",
      "272817.9375\n",
      "272804.15625\n",
      "272790.375\n",
      "272776.625\n",
      "272762.90625\n",
      "272749.15625\n",
      "272735.3125\n",
      "272721.53125\n",
      "272707.78125\n",
      "272693.96875\n",
      "272680.1875\n",
      "272666.46875\n",
      "272652.71875\n",
      "272639.09375\n",
      "272625.46875\n",
      "272611.96875\n",
      "272598.46875\n",
      "272584.96875\n",
      "272571.375\n",
      "272557.78125\n",
      "272544.28125\n",
      "272530.8125\n",
      "272517.40625\n",
      "272504.0\n",
      "272490.625\n",
      "272477.25\n",
      "272463.875\n",
      "272450.53125\n",
      "272437.3125\n",
      "272424.09375\n",
      "272410.875\n",
      "272397.71875\n",
      "272384.625\n",
      "272371.59375\n",
      "272358.5625\n",
      "272345.5625\n",
      "272332.59375\n",
      "272319.59375\n",
      "272306.59375\n",
      "272293.625\n",
      "272280.71875\n",
      "272267.75\n",
      "272254.84375\n",
      "272241.9375\n",
      "272229.03125\n",
      "272216.1875\n",
      "272203.40625\n",
      "272190.59375\n",
      "272177.78125\n",
      "272164.96875\n",
      "272152.125\n",
      "272139.3125\n",
      "272126.53125\n",
      "272113.71875\n",
      "272100.9375\n",
      "272088.21875\n",
      "272075.46875\n",
      "272062.71875\n",
      "272050.03125\n",
      "272037.28125\n",
      "272024.59375\n",
      "272011.84375\n",
      "271999.09375\n",
      "271986.4375\n",
      "271973.625\n",
      "271960.75\n",
      "271947.78125\n",
      "271934.78125\n",
      "271921.71875\n",
      "271908.5625\n",
      "271895.4375\n",
      "271882.15625\n",
      "271868.65625\n",
      "271854.9375\n",
      "271840.40625\n",
      "271825.5\n",
      "271810.3125\n",
      "271795.15625\n",
      "271779.96875\n",
      "271765.09375\n",
      "271750.71875\n",
      "271736.5625\n",
      "271722.34375\n",
      "271708.3125\n",
      "271694.1875\n",
      "271680.1875\n",
      "271666.4375\n",
      "271653.78125\n",
      "271641.3125\n",
      "271628.71875\n",
      "271616.0625\n",
      "271603.21875\n",
      "271590.09375\n",
      "271576.875\n",
      "271563.5\n",
      "271550.0\n",
      "271536.4375\n",
      "271522.8125\n",
      "271509.25\n",
      "271495.65625\n",
      "271482.0625\n",
      "271468.53125\n",
      "271454.9375\n",
      "271441.21875\n",
      "271427.59375\n",
      "271413.9375\n",
      "271400.1875\n",
      "271386.3125\n",
      "271372.28125\n",
      "271358.34375\n",
      "271344.28125\n",
      "271330.125\n",
      "271315.96875\n",
      "271301.8125\n",
      "271287.59375\n",
      "271273.34375\n",
      "271259.09375\n",
      "271244.875\n",
      "271230.625\n",
      "271216.3125\n",
      "271201.96875\n",
      "271187.5625\n",
      "271173.09375\n",
      "271158.6875\n",
      "271144.28125\n",
      "271129.84375\n",
      "271115.375\n",
      "271100.84375\n",
      "271086.1875\n",
      "271071.59375\n",
      "271057.1875\n",
      "271042.78125\n",
      "271028.375\n",
      "271014.0\n",
      "270999.53125\n",
      "270985.0625\n",
      "270970.5625\n",
      "270956.0625\n",
      "270941.625\n",
      "270927.28125\n",
      "270912.875\n",
      "270898.4375\n",
      "270883.9375\n",
      "270869.34375\n",
      "270854.65625\n",
      "270839.96875\n",
      "270825.4375\n",
      "270810.9375\n",
      "270796.34375\n",
      "270781.75\n",
      "270767.15625\n",
      "270752.5625\n",
      "270738.0\n",
      "270723.40625\n",
      "270708.84375\n",
      "270694.28125\n",
      "270679.71875\n",
      "270665.125\n",
      "270650.53125\n",
      "270636.0\n",
      "270621.53125\n",
      "270607.25\n",
      "270592.9375\n",
      "270578.6875\n",
      "270564.4375\n",
      "270550.21875\n",
      "270536.15625\n",
      "270522.125\n",
      "270508.1875\n",
      "270494.21875\n",
      "270480.3125\n",
      "270466.4375\n",
      "270452.5625\n",
      "270438.6875\n",
      "270424.84375\n",
      "270411.0\n",
      "270397.0\n",
      "270383.0\n",
      "270369.03125\n",
      "270355.03125\n",
      "270340.9375\n",
      "270326.875\n",
      "270312.75\n",
      "270298.71875\n",
      "270284.625\n",
      "270270.5625\n",
      "270256.5\n",
      "270242.4375\n",
      "270228.34375\n",
      "270214.28125\n",
      "270200.1875\n",
      "270186.15625\n",
      "270172.0625\n",
      "270158.0\n",
      "270144.0\n",
      "270129.96875\n",
      "270115.875\n",
      "270101.84375\n",
      "270087.75\n",
      "270073.625\n",
      "270059.46875\n",
      "270045.40625\n",
      "270031.1875\n",
      "270017.03125\n",
      "270002.90625\n",
      "269988.75\n",
      "269974.59375\n",
      "269960.40625\n",
      "269946.21875\n",
      "269932.03125\n",
      "269917.78125\n",
      "269903.59375\n",
      "269889.25\n",
      "269874.84375\n",
      "269860.375\n",
      "269846.0\n",
      "269831.625\n",
      "269817.25\n",
      "269802.9375\n",
      "269788.6875\n",
      "269774.4375\n",
      "269760.21875\n",
      "269745.9375\n",
      "269731.625\n",
      "269717.375\n",
      "269703.15625\n",
      "269689.46875\n",
      "269675.71875\n",
      "269661.9375\n",
      "269648.1875\n",
      "269634.46875\n",
      "269620.90625\n",
      "269607.40625\n",
      "269593.9375\n",
      "269580.4375\n",
      "269566.90625\n",
      "269553.375\n",
      "269539.90625\n",
      "269526.4375\n",
      "269512.96875\n",
      "269499.53125\n",
      "269486.0\n",
      "269472.46875\n",
      "269459.0\n",
      "269445.53125\n",
      "269432.03125\n",
      "269418.53125\n",
      "269405.0\n",
      "269391.5\n",
      "269378.03125\n",
      "269364.5\n",
      "269351.03125\n",
      "269337.59375\n",
      "269324.125\n",
      "269310.65625\n",
      "269297.1875\n",
      "269283.71875\n",
      "269270.28125\n",
      "269256.875\n",
      "269243.34375\n",
      "269229.84375\n",
      "269216.34375\n",
      "269202.8125\n",
      "269189.28125\n",
      "269175.6875\n",
      "269162.0625\n",
      "269148.40625\n",
      "269134.65625\n",
      "269120.96875\n",
      "269107.21875\n",
      "269093.375\n",
      "269079.625\n",
      "269065.84375\n",
      "269052.1875\n",
      "269038.625\n",
      "269025.09375\n",
      "269011.5625\n",
      "268998.09375\n",
      "268984.59375\n",
      "268971.09375\n",
      "268957.59375\n",
      "268944.03125\n",
      "268930.5\n",
      "268917.0625\n",
      "268903.75\n",
      "268890.375\n",
      "268877.0625\n",
      "268863.71875\n",
      "268850.34375\n",
      "268837.0\n",
      "268823.65625\n",
      "268810.28125\n",
      "268796.9375\n",
      "268783.625\n",
      "268770.25\n",
      "268756.9375\n",
      "268743.625\n",
      "268730.3125\n",
      "268717.0\n",
      "268703.6875\n",
      "268690.34375\n",
      "268677.03125\n",
      "268663.71875\n",
      "268650.40625\n",
      "268637.125\n",
      "268623.875\n",
      "268610.625\n",
      "268597.4375\n",
      "268584.21875\n",
      "268571.0625\n",
      "268557.875\n",
      "268544.71875\n",
      "268531.53125\n",
      "268518.375\n",
      "268505.1875\n",
      "268492.0625\n",
      "268478.90625\n",
      "268465.71875\n",
      "268452.59375\n",
      "268439.40625\n",
      "268426.21875\n",
      "268413.0625\n",
      "268399.90625\n",
      "268386.71875\n",
      "268373.8125\n",
      "268360.75\n",
      "268347.5625\n",
      "268334.90625\n",
      "268322.0\n",
      "268308.6875\n",
      "268295.84375\n",
      "268283.03125\n",
      "268270.125\n",
      "268257.03125\n",
      "268243.875\n",
      "268230.78125\n",
      "268217.90625\n",
      "268204.9375\n",
      "268191.78125\n",
      "268178.90625\n",
      "268165.96875\n",
      "268153.03125\n",
      "268140.0\n",
      "268126.96875\n",
      "268114.15625\n",
      "268101.1875\n",
      "268088.15625\n",
      "268075.3125\n",
      "268062.40625\n",
      "268049.46875\n",
      "268036.53125\n",
      "268023.65625\n",
      "268010.6875\n",
      "267997.84375\n",
      "267984.9375\n",
      "267972.03125\n",
      "267959.25\n",
      "267946.25\n",
      "267933.4375\n",
      "267920.53125\n",
      "267907.625\n",
      "267894.78125\n",
      "267881.78125\n",
      "267868.90625\n",
      "267855.9375\n",
      "267842.90625\n",
      "267829.78125\n",
      "267816.6875\n",
      "267803.5\n",
      "267790.40625\n",
      "267777.25\n",
      "267764.25\n",
      "267751.0625\n",
      "267737.9375\n",
      "267724.78125\n",
      "267711.59375\n",
      "267698.5\n",
      "267685.25\n",
      "267672.03125\n",
      "267658.8125\n",
      "267645.5625\n",
      "267632.3125\n",
      "267619.09375\n",
      "267605.96875\n",
      "267592.65625\n",
      "267579.46875\n",
      "267566.3125\n",
      "267553.15625\n",
      "267539.875\n",
      "267526.59375\n",
      "267513.4375\n",
      "267500.25\n",
      "267487.125\n",
      "267473.9375\n",
      "267460.78125\n",
      "267447.625\n"
     ]
    },
    {
     "data": {
      "text/plain": [
       "Text(0, 0.5, 'Training Loss')"
      ]
     },
     "execution_count": 173,
     "metadata": {},
     "output_type": "execute_result"
    },
    {
     "data": {
      "image/png": "[encoded data removed]",
      "text/plain": [
       "<Figure size 432x288 with 1 Axes>"
      ]
     },
     "metadata": {
      "needs_background": "light"
     },
     "output_type": "display_data"
    }
   ],
   "source": [
    "epochs = 1000\n",
    "\n",
    "losses = []\n",
    "\n",
    "for _ in range(epochs):\n",
    "\n",
    "    optimizer.zero_grad()\n",
    "    y_pred = model(X)\n",
    "    loss = criterion(y_pred, y)\n",
    "    print(loss.item())\n",
    "    losses.append(loss.item())\n",
    "    loss.backward()\n",
    "    optimizer.step()\n",
    "\n",
    "#plot the training losses\n",
    "\n",
    "plt.plot(losses)\n",
    "plt.xlabel(\"No of Epochs\")\n",
    "plt.ylabel(\"Training Loss\")"
   ]
  },
  {
   "attachments": {},
   "cell_type": "markdown",
   "metadata": {},
   "source": [
    "## Model Evaluation\n",
    "\n",
    "Models will be evaluated using a scheme called **walk-forward validation**. This is where a model is required to make a one week prediction, then the actual data for that week is made available to the model so that it can be used as the basis for making a prediction on the subsequent week.\n",
    "\n",
    "This is both realistic for how the model may be used in practice and beneficial to the models, allowing them to make use of the best available data. \n",
    "\n",
    "For example:\n",
    "\n",
    "`Input -> predict`\n",
    "\n",
    "`[Week1] -> Week2`\n",
    "\n",
    "`[Week1 + Week2]  -> Week3`\n",
    "\n",
    "`[Week1 + Week2 + Week3]  ->  Week4`\n",
    "\n",
    "`...`"
   ]
  },
  {
   "cell_type": "code",
   "execution_count": 175,
   "metadata": {},
   "outputs": [],
   "source": [
    "# summarize scores\n",
    "def summarize_scores(name, score, scores):\n",
    "    s_scores = ', '.join(['%.1f' % s for s in scores]) \n",
    "    print('%s: [%.3f] %s' % (name, score, s_scores))"
   ]
  },
  {
   "cell_type": "code",
   "execution_count": 177,
   "metadata": {},
   "outputs": [],
   "source": [
    "def evaluate_forecasts(actual, predicted):\n",
    "  \n",
    "  scores = list()\n",
    "  # calculate an RMSE score for each day\n",
    "  for i in range(actual.shape[1]):\n",
    "    # calculate mse\n",
    "    mse = mean_squared_error(actual[:, i], predicted[:, i])\n",
    "    # calculate rmse\n",
    "    rmse = np.sqrt(mse)\n",
    "    # store\n",
    "    scores.append(rmse)\n",
    "  # calculate overall RMSE\n",
    "    s=0\n",
    "    for row in range(actual.shape[0]):\n",
    "        for col in range(actual.shape[1]):\n",
    "            s += (actual[row, col] - predicted[row, col])**2\n",
    "    score = np.sqrt(s / (actual.shape[0] * actual.shape[1]))\n",
    "  return score, scores"
   ]
  },
  {
   "cell_type": "code",
   "execution_count": 193,
   "metadata": {},
   "outputs": [
    {
     "name": "stdout",
     "output_type": "stream",
     "text": [
      "(159, 7, 7)\n",
      "[2195.452 2094.098 2047.968 2451.11  2211.892 1224.252 1311.806]\n"
     ]
    }
   ],
   "source": [
    "history = [x for x in train]\n",
    "\n",
    "data = array(history)\n",
    "print(data.shape)\n",
    "data = data.reshape((data.shape[0]*data.shape[1], data.shape[2]))\n",
    "input_x = data[-7:, 0]\n",
    "print(input_x)"
   ]
  },
  {
   "cell_type": "code",
   "execution_count": 197,
   "metadata": {},
   "outputs": [
    {
     "data": {
      "text/plain": [
       "(1442, 7)"
      ]
     },
     "execution_count": 197,
     "metadata": {},
     "output_type": "execute_result"
    }
   ],
   "source": [
    "dataset.shape"
   ]
  },
  {
   "cell_type": "code",
   "execution_count": 210,
   "metadata": {},
   "outputs": [
    {
     "data": {
      "text/plain": [
       "tensor([2008.4426, 2112.8894, 2104.7432, 2032.2062, 2088.1284, 2155.6680,\n",
       "        2071.2598], grad_fn=<SelectBackward0>)"
      ]
     },
     "execution_count": 210,
     "metadata": {},
     "output_type": "execute_result"
    }
   ],
   "source": [
    "X[-1]\n",
    "\n",
    "model.forward(X[-1][None])[0]"
   ]
  },
  {
   "cell_type": "code",
   "execution_count": 220,
   "metadata": {},
   "outputs": [
    {
     "data": {
      "text/plain": [
       "array([[2195.452, 2094.098, 2047.968, 2451.11 , 2211.892, 1224.252,\n",
       "        1311.806]], dtype=float32)"
      ]
     },
     "execution_count": 220,
     "metadata": {},
     "output_type": "execute_result"
    }
   ],
   "source": [
    "train[-1][:, 0][None]"
   ]
  },
  {
   "cell_type": "code",
   "execution_count": 223,
   "metadata": {},
   "outputs": [
    {
     "data": {
      "text/plain": [
       "(46, 7, 7)"
      ]
     },
     "execution_count": 223,
     "metadata": {},
     "output_type": "execute_result"
    }
   ],
   "source": [
    "test.shape"
   ]
  },
  {
   "cell_type": "code",
   "execution_count": 246,
   "metadata": {},
   "outputs": [],
   "source": [
    "#evaluation \n",
    "\n",
    "#get the last train \n",
    "n_test = len(test)\n",
    "n_input = 7\n",
    "\n",
    "#extract the last 7 days training data from train\n",
    "history = train[-1][:, 0]\n",
    "#rehsape hist into (B, T, C)\n",
    "B = 1\n",
    "T = 7\n",
    "C = 1\n",
    "\n",
    "predictions = []\n",
    "\n",
    "for i in range(n_test):\n",
    "    n_in = 0\n",
    "    # reshape the data from (B, T, C) -> (B, C, T)\n",
    "    history = torch.tensor(history).view(B, T, C)\n",
    "    # # reshape into [1, n_input, 1]\n",
    "    with torch.no_grad():\n",
    "        yhat = model.forward(history)\n",
    "        # store the predictions\n",
    "        predictions.append(yhat[0].tolist())\n",
    "    history = test[i][n_in:n_in+n_input, 0]\n",
    "    n_in += n_input\n",
    "    \n",
    "predictions = array(predictions)\n",
    "score, scores = evaluate_forecasts(array(test[:, :, 0].tolist()), predictions)\n",
    "\n",
    "    "
   ]
  },
  {
   "cell_type": "code",
   "execution_count": 252,
   "metadata": {},
   "outputs": [
    {
     "name": "stdout",
     "output_type": "stream",
     "text": [
      "cnn: [430.179] 492.5, 429.3, 349.1, 395.3, 425.0, 325.5, 551.1\n"
     ]
    },
    {
     "data": {
      "image/png": "[encoded data removed]",
      "text/plain": [
       "<Figure size 432x288 with 1 Axes>"
      ]
     },
     "metadata": {
      "needs_background": "light"
     },
     "output_type": "display_data"
    }
   ],
   "source": [
    "# summarize scores\n",
    "summarize_scores('cnn', score, scores)\n",
    "# plot scores\n",
    "days = ['sun', 'mon', 'tue', 'wed', 'thr', 'fri', 'sat'] \n",
    "plt.plot(days, scores, marker='o', label='cnn') \n",
    "plt.title(\"Line Plot of RMSE per Day for Univariate CNN with 7-day Inputs. \\n\", loc='left')\n",
    "plt.show()"
   ]
  },
  {
   "attachments": {},
   "cell_type": "markdown",
   "metadata": {},
   "source": [
    "This plot shows that perhaps Tuesdays and Fridays are easier days to forecast than the other days and that perhaps Saturday at the end of the standard week is the hardest day to forecast."
   ]
  },
  {
   "cell_type": "code",
   "execution_count": null,
   "metadata": {},
   "outputs": [],
   "source": []
  },
  {
   "attachments": {},
   "cell_type": "markdown",
   "metadata": {},
   "source": [
    "## Multi-channel CNN Model\n",
    "\n",
    "In this section, we will update the CNN developed in the previous section to use each of the eight time series variables to predict the next standard week of daily total power consumption. We will do this by providing each one-dimensional time series to the model as a separate channel of input. The CNN will then use a separate kernel and read each input sequence onto a separate set of filter maps, essentially learning features from each input time series variable. This is helpful for those problems where the output sequence is some function of the observations at prior time steps from multiple different features, not just (or including) the feature being forecasted.\n",
    "\n",
    "It is unclear whether this is the case in the power consumption problem, but we can explore it nonetheless. First, we must update the preparation of the training data to include all of the eight features, not just the one total daily power consumed. "
   ]
  },
  {
   "attachments": {},
   "cell_type": "markdown",
   "metadata": {},
   "source": [
    "**change supervised data transform function**\n"
   ]
  },
  {
   "cell_type": "code",
   "execution_count": 260,
   "metadata": {},
   "outputs": [],
   "source": [
    "def to_supervised(train, n_input, n_out=7):\n",
    "    \"\"\"\n",
    "    \n",
    "    input - a list of weeks (history) and the number of time steps to use as inputs outputs \n",
    "    returns - the data in the overlapping moving window format.\n",
    "    \n",
    "    \"\"\"\n",
    "    #flatten data\n",
    "    data = train.reshape(train.shape[0]*train.shape[1], train.shape[2])\n",
    "    X, y = [], []\n",
    "    in_start = 0\n",
    "\n",
    "    for _ in range(len(data)):\n",
    "\n",
    "        #define the end of the input sequence\n",
    "        in_end = in_start + n_input\n",
    "        out_end = in_end + n_out\n",
    "\n",
    "        #ensure we have all the data for that window\n",
    "        if out_end < len(data):\n",
    "            x_input = data[in_start:in_end, :]\n",
    "            #x_input = x_input.view((len(x_input), 1))\n",
    "            X.append(x_input)\n",
    "            y.append(data[in_end:out_end, 0])\n",
    "        # move along one time step\n",
    "        in_start += 1\n",
    "    return torch.tensor(X), torch.tensor(y)\n",
    "\n",
    "    "
   ]
  },
  {
   "cell_type": "code",
   "execution_count": 296,
   "metadata": {},
   "outputs": [
    {
     "data": {
      "text/plain": [
       "(torch.Size([1092, 14, 7]), torch.Size([1092, 7]))"
      ]
     },
     "execution_count": 296,
     "metadata": {},
     "output_type": "execute_result"
    }
   ],
   "source": [
    "X, y = to_supervised(train, 14)\n",
    "X.shape, y.shape"
   ]
  },
  {
   "attachments": {},
   "cell_type": "markdown",
   "metadata": {},
   "source": [
    "We will use 14 days of prior observations across seven of the input variables."
   ]
  },
  {
   "cell_type": "code",
   "execution_count": 297,
   "metadata": {},
   "outputs": [],
   "source": [
    "n_input = 14"
   ]
  },
  {
   "attachments": {},
   "cell_type": "markdown",
   "metadata": {},
   "source": [
    "Finally, the model used in the previous section does not perform well on this new framing of the problem. The increase in the amount of data requires a larger and more sophisticated model that is trained for longer. \n",
    "\n",
    "**New Model Architecture**\n",
    "\n",
    "Two convolutional layers with `32` filter maps followed by pooling, then another convolutional layer with `16` feature maps and pooling. The fully connected layer that interprets the features is increased to `100` nodes and final layer contains `n_out` nodes.\n"
   ]
  },
  {
   "cell_type": "code",
   "execution_count": 325,
   "metadata": {},
   "outputs": [],
   "source": [
    "class MultiChannelCNNModel(nn.Module):\n",
    "\n",
    "    def __init__(self, n_feature, n_out) -> None:\n",
    "        super().__init__()\n",
    "        #define convnets\n",
    "        self.conv_layer1 = nn.Sequential(\n",
    "            nn.Conv1d(in_channels=n_feature, out_channels=32, kernel_size=2),\n",
    "            nn.ReLU(),\n",
    "            nn.MaxPool1d(kernel_size=2),\n",
    "        )\n",
    "        self.conv_layer2 = nn.Sequential(\n",
    "            nn.Conv1d(in_channels=32, out_channels=16, kernel_size=2),\n",
    "            nn.ReLU(),\n",
    "            nn.MaxPool1d(kernel_size=2),\n",
    "        )\n",
    "        self.flt_layer = nn.Flatten()\n",
    "        self.ln_layer = nn.Sequential(\n",
    "            nn.Linear(in_features=32, out_features=100),\n",
    "            nn.ReLU(),\n",
    "            nn.Linear(in_features=100, out_features=n_out)\n",
    "        )\n",
    "\n",
    "    def forward(self, X):\n",
    "\n",
    "        #shape of X => (B, T, C) => (B, C, T)\n",
    "        B, T, C = X.shape\n",
    "        # print(B, T, C)\n",
    "        X = X.view(B, C, T)\n",
    "        X = self.conv_layer1(X)\n",
    "        X = self.conv_layer2(X)\n",
    "        X = self.flt_layer(X)\n",
    "        X = self.ln_layer(X)\n",
    "\n",
    "        return X\n",
    "    \n",
    "n_feature = 7\n",
    "n_out = 7     \n",
    "multi_channel_model = MultiChannelCNNModel(n_feature=n_feature, n_out=n_out)"
   ]
  },
  {
   "cell_type": "code",
   "execution_count": 326,
   "metadata": {},
   "outputs": [
    {
     "data": {
      "text/plain": [
       "<bound method Module.parameters of MultiChannelCNNModel(\n",
       "  (conv_layer1): Sequential(\n",
       "    (0): Conv1d(7, 32, kernel_size=(2,), stride=(1,))\n",
       "    (1): ReLU()\n",
       "    (2): MaxPool1d(kernel_size=2, stride=2, padding=0, dilation=1, ceil_mode=False)\n",
       "  )\n",
       "  (conv_layer2): Sequential(\n",
       "    (0): Conv1d(32, 16, kernel_size=(2,), stride=(1,))\n",
       "    (1): ReLU()\n",
       "    (2): MaxPool1d(kernel_size=2, stride=2, padding=0, dilation=1, ceil_mode=False)\n",
       "  )\n",
       "  (flt_layer): Flatten(start_dim=1, end_dim=-1)\n",
       "  (ln_layer): Sequential(\n",
       "    (0): Linear(in_features=32, out_features=100, bias=True)\n",
       "    (1): ReLU()\n",
       "    (2): Linear(in_features=100, out_features=7, bias=True)\n",
       "  )\n",
       ")>"
      ]
     },
     "execution_count": 326,
     "metadata": {},
     "output_type": "execute_result"
    }
   ],
   "source": [
    "multi_channel_model.parameters"
   ]
  },
  {
   "attachments": {},
   "cell_type": "markdown",
   "metadata": {},
   "source": [
    "**Define optimizer and loss function**"
   ]
  },
  {
   "cell_type": "code",
   "execution_count": 327,
   "metadata": {},
   "outputs": [],
   "source": [
    "optimizer = torch.optim.Adam(multi_channel_model.parameters(), lr=1e-3)\n",
    "\n",
    "criterion = torch.nn.MSELoss()"
   ]
  },
  {
   "attachments": {},
   "cell_type": "markdown",
   "metadata": {},
   "source": [
    "**Models Training**"
   ]
  },
  {
   "cell_type": "code",
   "execution_count": 328,
   "metadata": {},
   "outputs": [
    {
     "name": "stdout",
     "output_type": "stream",
     "text": [
      "390870464.0\n",
      "237132912.0\n",
      "130711816.0\n",
      "61832276.0\n",
      "23469858.0\n",
      "5587388.0\n",
      "3823495.25\n",
      "10836916.0\n",
      "18979518.0\n",
      "24608476.0\n",
      "26469838.0\n",
      "26073732.0\n",
      "24360348.0\n",
      "21469828.0\n",
      "17906974.0\n",
      "14261224.0\n",
      "10877793.0\n",
      "7866655.5\n",
      "5328859.0\n",
      "3331293.25\n",
      "1994532.0\n",
      "1294689.75\n",
      "1166760.875\n",
      "1464935.375\n",
      "1958473.0\n",
      "2409328.5\n",
      "2755325.75\n",
      "2931585.5\n",
      "2935711.0\n",
      "2793035.75\n",
      "2536169.25\n",
      "2202276.0\n",
      "1829042.375\n",
      "1453139.0\n",
      "1109390.375\n",
      "828338.625\n",
      "631955.0625\n",
      "528976.75\n",
      "513120.84375\n",
      "560076.125\n",
      "631488.25\n",
      "690232.25\n",
      "718660.875\n",
      "717517.1875\n",
      "697101.4375\n",
      "668838.375\n",
      "639529.0625\n",
      "610258.1875\n",
      "578637.1875\n",
      "542385.875\n",
      "502159.96875\n",
      "462073.71875\n",
      "428080.125\n",
      "405193.375\n",
      "395398.125\n",
      "396877.5625\n",
      "404921.34375\n",
      "414070.0\n",
      "420248.34375\n",
      "421961.46875\n",
      "420100.5\n",
      "416702.3125\n",
      "413488.96875\n",
      "410961.03125\n",
      "408400.5625\n",
      "404600.59375\n",
      "398803.9375\n",
      "391275.75\n",
      "383255.78125\n",
      "376368.4375\n",
      "371863.4375\n",
      "370089.0625\n",
      "370460.125\n",
      "371860.4375\n",
      "373236.34375\n",
      "374024.8125\n",
      "374233.59375\n",
      "374195.75\n",
      "374207.25\n",
      "374286.0625\n",
      "374179.4375\n",
      "373563.0\n",
      "372285.3125\n",
      "370493.875\n",
      "368577.34375\n",
      "366972.1875\n",
      "365963.0625\n",
      "365576.96875\n",
      "365628.8125\n",
      "365853.6875\n",
      "366051.5625\n",
      "366154.25\n",
      "366195.9375\n",
      "366232.5625\n",
      "366273.46875\n",
      "366267.53125\n",
      "366143.40625\n",
      "365865.21875\n",
      "365465.53125\n",
      "365030.59375\n"
     ]
    },
    {
     "data": {
      "text/plain": [
       "Text(0, 0.5, 'Training Loss')"
      ]
     },
     "execution_count": 328,
     "metadata": {},
     "output_type": "execute_result"
    },
    {
     "data": {
      "image/png": "[encoded data removed]",
      "text/plain": [
       "<Figure size 432x288 with 1 Axes>"
      ]
     },
     "metadata": {
      "needs_background": "light"
     },
     "output_type": "display_data"
    }
   ],
   "source": [
    "epochs = 100\n",
    "\n",
    "losses = []\n",
    "\n",
    "for _ in range(epochs):\n",
    "\n",
    "    optimizer.zero_grad()\n",
    "    y_pred = multi_channel_model(X)\n",
    "    loss = criterion(y_pred, y)\n",
    "    print(loss.item())\n",
    "    losses.append(loss.item())\n",
    "    loss.backward()\n",
    "    optimizer.step()\n",
    "\n",
    "#plot the training losses\n",
    "\n",
    "plt.plot(losses)\n",
    "plt.xlabel(\"No of Epochs\")\n",
    "plt.ylabel(\"Training Loss\")"
   ]
  },
  {
   "attachments": {},
   "cell_type": "markdown",
   "metadata": {},
   "source": [
    "**Model Evaluation**"
   ]
  },
  {
   "cell_type": "code",
   "execution_count": 320,
   "metadata": {},
   "outputs": [],
   "source": [
    "def evaluate_forecasts(actual, predicted):\n",
    "  \n",
    "  scores = list()\n",
    "  # calculate an RMSE score for each day\n",
    "  for i in range(actual.shape[1]):\n",
    "    # calculate mse\n",
    "    mse = mean_squared_error(actual[:, i], predicted[:, i])\n",
    "    # calculate rmse\n",
    "    rmse = np.sqrt(mse)\n",
    "    # store\n",
    "    scores.append(rmse)\n",
    "  # calculate overall RMSE\n",
    "    s=0\n",
    "    for row in range(actual.shape[0]):\n",
    "        for col in range(actual.shape[1]):\n",
    "            s += (actual[row, col] - predicted[row, col])**2\n",
    "    score = np.sqrt(s / (actual.shape[0] * actual.shape[1]))\n",
    "  return score, scores"
   ]
  },
  {
   "cell_type": "code",
   "execution_count": 324,
   "metadata": {},
   "outputs": [
    {
     "data": {
      "text/plain": [
       "(159, 7, 7)"
      ]
     },
     "execution_count": 324,
     "metadata": {},
     "output_type": "execute_result"
    }
   ],
   "source": [
    "train.shape"
   ]
  },
  {
   "cell_type": "code",
   "execution_count": 331,
   "metadata": {},
   "outputs": [
    {
     "data": {
      "text/plain": [
       "(7, 7)"
      ]
     },
     "execution_count": 331,
     "metadata": {},
     "output_type": "execute_result"
    }
   ],
   "source": [
    "train[-2][:, :].shape"
   ]
  },
  {
   "cell_type": "code",
   "execution_count": 329,
   "metadata": {},
   "outputs": [
    {
     "ename": "AttributeError",
     "evalue": "'numpy.ndarray' object has no attribute 'extend'",
     "output_type": "error",
     "traceback": [
      "\u001b[0;31m---------------------------------------------------------------------------\u001b[0m",
      "\u001b[0;31mAttributeError\u001b[0m                            Traceback (most recent call last)",
      "\u001b[1;32m/Users/ajitkumarsingh/Desktop/Time-Series-Analysis-and-Forecasting-with-Python/Time_Series_Forecasting_With_CNNs.ipynb Cell 82\u001b[0m in \u001b[0;36m<cell line: 8>\u001b[0;34m()\u001b[0m\n\u001b[1;32m      <a href='vscode-notebook-cell:/Users/ajitkumarsingh/Desktop/Time-Series-Analysis-and-Forecasting-with-Python/Time_Series_Forecasting_With_CNNs.ipynb#Y316sZmlsZQ%3D%3D?line=4'>5</a>\u001b[0m n_input \u001b[39m=\u001b[39m \u001b[39m14\u001b[39m\n\u001b[1;32m      <a href='vscode-notebook-cell:/Users/ajitkumarsingh/Desktop/Time-Series-Analysis-and-Forecasting-with-Python/Time_Series_Forecasting_With_CNNs.ipynb#Y316sZmlsZQ%3D%3D?line=6'>7</a>\u001b[0m \u001b[39m#extract the last 7 days training data from train\u001b[39;00m\n\u001b[0;32m----> <a href='vscode-notebook-cell:/Users/ajitkumarsingh/Desktop/Time-Series-Analysis-and-Forecasting-with-Python/Time_Series_Forecasting_With_CNNs.ipynb#Y316sZmlsZQ%3D%3D?line=7'>8</a>\u001b[0m history \u001b[39m=\u001b[39m train[\u001b[39m-\u001b[39;49m\u001b[39m2\u001b[39;49m][:, :]\u001b[39m.\u001b[39;49mextend(train[\u001b[39m-\u001b[39m\u001b[39m1\u001b[39m][:, :])\n\u001b[1;32m      <a href='vscode-notebook-cell:/Users/ajitkumarsingh/Desktop/Time-Series-Analysis-and-Forecasting-with-Python/Time_Series_Forecasting_With_CNNs.ipynb#Y316sZmlsZQ%3D%3D?line=8'>9</a>\u001b[0m \u001b[39m#rehsape hist into (B, T, C)\u001b[39;00m\n\u001b[1;32m     <a href='vscode-notebook-cell:/Users/ajitkumarsingh/Desktop/Time-Series-Analysis-and-Forecasting-with-Python/Time_Series_Forecasting_With_CNNs.ipynb#Y316sZmlsZQ%3D%3D?line=9'>10</a>\u001b[0m B \u001b[39m=\u001b[39m \u001b[39m1\u001b[39m\n",
      "\u001b[0;31mAttributeError\u001b[0m: 'numpy.ndarray' object has no attribute 'extend'"
     ]
    }
   ],
   "source": [
    "#evaluation \n",
    "\n",
    "#get the last train \n",
    "n_test = len(test)\n",
    "n_input = 14\n",
    "\n",
    "#extract the last 7 days training data from train\n",
    "history = train[-2][:, :].extend(train[-1][:, :])\n",
    "#rehsape hist into (B, T, C)\n",
    "B = 1\n",
    "T = 14\n",
    "C = 7\n",
    "\n",
    "predictions = []\n",
    "\n",
    "for i in range(n_test):\n",
    "    n_in = 0\n",
    "    # reshape the data from (B, T, C) -> (B, C, T)\n",
    "    history = torch.tensor(history[-T]).view(B, T, C)\n",
    "    # # reshape into [1, n_input, 1]\n",
    "    with torch.no_grad():\n",
    "        yhat = multi_channel_model.forward(history)\n",
    "        # store the predictions\n",
    "        predictions.append(yhat[0].tolist())\n",
    "    history = history.extend(test[i][n_in:n_in+n_input, :])\n",
    "    n_in += n_input\n",
    "    \n",
    "predictions = array(predictions)\n",
    "score, scores = evaluate_forecasts(array(test[:, :, 0].tolist()), predictions)\n",
    "\n",
    "    "
   ]
  },
  {
   "cell_type": "code",
   "execution_count": 322,
   "metadata": {},
   "outputs": [
    {
     "name": "stdout",
     "output_type": "stream",
     "text": [
      "cnn: [485.897] 449.7, 544.5, 431.6, 508.7, 440.1, 397.2, 597.9\n"
     ]
    },
    {
     "data": {
      "image/png": "[encoded data removed]",
      "text/plain": [
       "<Figure size 432x288 with 1 Axes>"
      ]
     },
     "metadata": {
      "needs_background": "light"
     },
     "output_type": "display_data"
    }
   ],
   "source": [
    "# summarize scores\n",
    "summarize_scores('cnn', score, scores)\n",
    "# plot scores\n",
    "days = ['sun', 'mon', 'tue', 'wed', 'thr', 'fri', 'sat'] \n",
    "plt.plot(days, scores, marker='o', label='cnn') \n",
    "plt.title(\"Line Plot of RMSE per Day for Univariate CNN with 7-day Inputs. \\n\", loc='left')\n",
    "plt.show()"
   ]
  },
  {
   "cell_type": "code",
   "execution_count": null,
   "metadata": {},
   "outputs": [],
   "source": []
  },
  {
   "cell_type": "markdown",
   "metadata": {},
   "source": []
  },
  {
   "cell_type": "markdown",
   "metadata": {},
   "source": []
  },
  {
   "attachments": {},
   "cell_type": "markdown",
   "metadata": {},
   "source": [
    "## Multi-headed CNN Model\n",
    "\n",
    "We can further extend the CNN model to have a separate sub-CNN model or head for each input variable, which we can refer to as a multi-headed CNN model.\n",
    "\n",
    "This requires a modification to the preparation of the model, and in turn, modification to the preparation of the training and test datasets.\n",
    "\n",
    "Starting with the model, we must define a separate CNN model for each of the eight input variables. The configuration of the model, including the number of layers and their hyperparameters, were also modified to better suit the new approach. \n",
    "\n",
    "We can loop over each variable and create a submodel that takes a one-dimensional sequence of 14 days of data and outputs a flat vector containing a summary of the learned features from the sequence. Each of these vectors can be merged via concatenation to make one very long vector that is then interpreted by some fully connected layers before a prediction is made.\n",
    "\n",
    "As we build up the submodels, we keep track of the input layers and flatten layers in lists. This is so that we can specify the inputs in the definition of the model object and use the list of flatten layers in the merge layer."
   ]
  },
  {
   "cell_type": "code",
   "execution_count": 333,
   "metadata": {},
   "outputs": [],
   "source": [
    "import torch\n",
    "import torch.nn as nn\n",
    "import torch.optim as optimizer\n",
    "import pandas as pd\n",
    "import numpy as np\n",
    "import matplotlib.pyplot as plt\n",
    "from sklearn.metrics import mean_squared_error"
   ]
  },
  {
   "cell_type": "code",
   "execution_count": 334,
   "metadata": {},
   "outputs": [],
   "source": [
    "def split_dataset(data):\n",
    "  # split into standard weeks\n",
    "  train, test = data[1:-328], data[-328:-6]\n",
    "  # restructure into windows of weekly data\n",
    "  train = array(split(train, len(train)/7))\n",
    "  test = array(split(test, len(test)/7))\n",
    "  return train, test\n"
   ]
  },
  {
   "cell_type": "code",
   "execution_count": 340,
   "metadata": {},
   "outputs": [],
   "source": []
  },
  {
   "cell_type": "code",
   "execution_count": 342,
   "metadata": {},
   "outputs": [],
   "source": [
    "# summarize scores\n",
    "def summarize_scores(name, score, scores):\n",
    "    s_scores = ', '.join(['%.1f' % s for s in scores])\n",
    "    print('%s: [%.3f] %s' % (name, score, s_scores))"
   ]
  },
  {
   "cell_type": "code",
   "execution_count": null,
   "metadata": {},
   "outputs": [],
   "source": [
    "# convert history into inputs and outputs\n",
    "def to_supervised(train, n_input, n_out=7):\n",
    "  # flatten data\n",
    "  data = train.reshape((train.shape[0]*train.shape[1], train.shape[2]))\n",
    "  X, y = list(), list()\n",
    "  in_start = 0\n",
    "  # step over the entire history one time step at a time\n",
    "  for _ in range(len(data)):\n",
    "    # define the end of the input sequence\n",
    "    in_end = in_start + n_input\n",
    "    out_end = in_end + n_out\n",
    "    # ensure we have enough data for this instance\n",
    "    if out_end < len(data):\n",
    "     X.append(data[in_start:in_end, :])\n",
    "     y.append(data[in_end:out_end, 0])\n",
    "    # move along one time step\n",
    "    in_start += 1\n",
    "  return array(X), array(y)"
   ]
  },
  {
   "cell_type": "code",
   "execution_count": 345,
   "metadata": {},
   "outputs": [],
   "source": [
    "# plot training history\n",
    "def plot_history(history):\n",
    "    # plot loss\n",
    "    plt.subplot(2, 1, 1) \n",
    "    plt.plot(history.history['loss'], label='train') \n",
    "    plt.plot(history.history['val_loss'], label='test') \n",
    "    plt.title('loss', y=0, loc='center') \n",
    "    plt.legend()\n",
    "    # plot rmse\n",
    "    plt.subplot(2, 1, 2) \n",
    "    plt.plot(history.history['rmse'], label='train') \n",
    "    plt.plot(history.history['val_rmse'], label='test') \n",
    "    plt.title('rmse', y=0, loc='center') \n",
    "    plt.legend()\n",
    "    plt.show()"
   ]
  },
  {
   "cell_type": "code",
   "execution_count": 347,
   "metadata": {},
   "outputs": [
    {
     "name": "stdout",
     "output_type": "stream",
     "text": [
      "Train shape: (159, 7, 7), Test shape: (46, 7, 7)\n"
     ]
    }
   ],
   "source": [
    "train, test = split_dataset(dataset.values)\n",
    "\n",
    "print(f\"Train shape: {train.shape}, Test shape: {test.shape}\")"
   ]
  },
  {
   "cell_type": "code",
   "execution_count": 350,
   "metadata": {},
   "outputs": [
    {
     "name": "stdout",
     "output_type": "stream",
     "text": [
      "X : torch.Size([1092, 14, 7]), Y : torch.Size([1092, 7])\n"
     ]
    }
   ],
   "source": [
    "train_x, train_y = to_supervised(train, 14)\n",
    "\n",
    "print(f\"X : {train_x.shape}, Y : {train_y.shape}\")"
   ]
  },
  {
   "cell_type": "code",
   "execution_count": 439,
   "metadata": {},
   "outputs": [],
   "source": [
    "import torch\n",
    "import torch.nn as nn\n",
    "import torch.optim as optim\n",
    "\n",
    "# Assuming your data (train_x, train_y) is already loaded and preprocessed\n",
    "\n",
    "class MultiHeadedCNN(nn.Module):\n",
    "    def __init__(self, n_timesteps, n_features, n_outputs):\n",
    "        super(MultiHeadedCNN, self).__init__()\n",
    "        self.heads = nn.ModuleList([nn.Sequential(\n",
    "            nn.Conv1d(in_channels=1, out_channels=32, kernel_size=3),\n",
    "            nn.ReLU(),\n",
    "            nn.Conv1d(in_channels=32, out_channels=32, kernel_size=3),\n",
    "            nn.ReLU(),\n",
    "            nn.MaxPool1d(kernel_size=2),\n",
    "            nn.Flatten()\n",
    "        ) for _ in range(n_features)])\n",
    "\n",
    "        self.dense1 = nn.Linear(32 * n_features, 200)\n",
    "        self.dense2 = nn.Linear(200, 100)\n",
    "        self.out = nn.Linear(100, n_outputs)\n",
    "\n",
    "    def forward(self, x):\n",
    "        outputs = [head(x[:, i, :].unsqueeze(1)) for i, head in enumerate(self.heads)]\n",
    "        merged = torch.cat(outputs, dim=1)\n",
    "        # print(merged.shape)\n",
    "        out = torch.relu(self.dense1(merged))\n",
    "        out = torch.relu(self.dense2(out))\n",
    "        out = self.out(out)\n",
    "        return out\n",
    "\n",
    "# Model initialization\n",
    "n_timesteps, n_features, n_outputs = train_x.shape[1], train_x.shape[2], train_y.shape[1]\n",
    "model = MultiHeadedCNN(n_timesteps, n_features, n_outputs)\n",
    "\n",
    "# Loss and optimizer\n",
    "criterion = nn.MSELoss()\n",
    "optimizer = optim.Adam(model.parameters(), lr=0.001)"
   ]
  },
  {
   "cell_type": "code",
   "execution_count": 440,
   "metadata": {},
   "outputs": [],
   "source": [
    "# evaluate model and get scores\n",
    "n_input = 14"
   ]
  },
  {
   "cell_type": "code",
   "execution_count": 441,
   "metadata": {},
   "outputs": [
    {
     "name": "stderr",
     "output_type": "stream",
     "text": [
      "/var/folders/xf/gcbfh98s6n53wh5f2hpb84nh0000gn/T/ipykernel_5929/1520043488.py:2: UserWarning: To copy construct from a tensor, it is recommended to use sourceTensor.clone().detach() or sourceTensor.clone().detach().requires_grad_(True), rather than torch.tensor(sourceTensor).\n",
      "  train_x_tensor = torch.tensor(train_x, dtype=torch.float32)\n",
      "/var/folders/xf/gcbfh98s6n53wh5f2hpb84nh0000gn/T/ipykernel_5929/1520043488.py:3: UserWarning: To copy construct from a tensor, it is recommended to use sourceTensor.clone().detach() or sourceTensor.clone().detach().requires_grad_(True), rather than torch.tensor(sourceTensor).\n",
      "  train_y_tensor = torch.tensor(train_y, dtype=torch.float32)\n"
     ]
    }
   ],
   "source": [
    "# Converting data to PyTorch tensors\n",
    "train_x_tensor = torch.tensor(train_x, dtype=torch.float32)\n",
    "train_y_tensor = torch.tensor(train_y, dtype=torch.float32)"
   ]
  },
  {
   "cell_type": "code",
   "execution_count": 442,
   "metadata": {},
   "outputs": [
    {
     "data": {
      "text/plain": [
       "torch.Size([1092, 14, 7])"
      ]
     },
     "execution_count": 442,
     "metadata": {},
     "output_type": "execute_result"
    }
   ],
   "source": [
    "train_x_tensor.shape"
   ]
  },
  {
   "cell_type": "code",
   "execution_count": 443,
   "metadata": {},
   "outputs": [
    {
     "name": "stdout",
     "output_type": "stream",
     "text": [
      "Epoch [1/1000], Loss: 11158590.0000\n",
      "Epoch [6/1000], Loss: 933244.5000\n",
      "Epoch [11/1000], Loss: 790186.8750\n",
      "Epoch [16/1000], Loss: 433752.8125\n",
      "Epoch [21/1000], Loss: 421936.4688\n",
      "Epoch [26/1000], Loss: 419620.8125\n",
      "Epoch [31/1000], Loss: 391790.5312\n",
      "Epoch [36/1000], Loss: 369922.5312\n",
      "Epoch [41/1000], Loss: 371029.5000\n",
      "Epoch [46/1000], Loss: 369502.1875\n",
      "Epoch [51/1000], Loss: 369686.8125\n",
      "Epoch [56/1000], Loss: 367986.3750\n",
      "Epoch [61/1000], Loss: 364748.9062\n",
      "Epoch [66/1000], Loss: 362624.4062\n",
      "Epoch [71/1000], Loss: 362029.3438\n",
      "Epoch [76/1000], Loss: 360486.3438\n",
      "Epoch [81/1000], Loss: 359203.4688\n",
      "Epoch [86/1000], Loss: 358289.0938\n",
      "Epoch [91/1000], Loss: 357216.0625\n",
      "Epoch [96/1000], Loss: 355425.3125\n",
      "Epoch [101/1000], Loss: 354042.3750\n",
      "Epoch [106/1000], Loss: 352853.2188\n",
      "Epoch [111/1000], Loss: 351562.0625\n",
      "Epoch [116/1000], Loss: 350249.8750\n",
      "Epoch [121/1000], Loss: 348866.9688\n",
      "Epoch [126/1000], Loss: 347324.5312\n",
      "Epoch [131/1000], Loss: 345752.9688\n",
      "Epoch [136/1000], Loss: 344086.7188\n",
      "Epoch [141/1000], Loss: 342328.4688\n",
      "Epoch [146/1000], Loss: 340371.7500\n",
      "Epoch [151/1000], Loss: 338024.7500\n",
      "Epoch [156/1000], Loss: 335666.5938\n",
      "Epoch [161/1000], Loss: 333123.6875\n",
      "Epoch [166/1000], Loss: 330359.1250\n",
      "Epoch [171/1000], Loss: 337288.0312\n",
      "Epoch [176/1000], Loss: 325871.3750\n",
      "Epoch [181/1000], Loss: 321723.5312\n",
      "Epoch [186/1000], Loss: 318240.9062\n",
      "Epoch [191/1000], Loss: 315093.3438\n",
      "Epoch [196/1000], Loss: 310939.0625\n",
      "Epoch [201/1000], Loss: 325091.2188\n",
      "Epoch [206/1000], Loss: 310105.5625\n",
      "Epoch [211/1000], Loss: 300564.5312\n",
      "Epoch [216/1000], Loss: 298611.3750\n",
      "Epoch [221/1000], Loss: 295557.2188\n",
      "Epoch [226/1000], Loss: 294690.5000\n",
      "Epoch [231/1000], Loss: 291256.4688\n",
      "Epoch [236/1000], Loss: 290177.5938\n",
      "Epoch [241/1000], Loss: 397628.7500\n",
      "Epoch [246/1000], Loss: 351149.9688\n",
      "Epoch [251/1000], Loss: 295486.0625\n",
      "Epoch [256/1000], Loss: 291269.7812\n",
      "Epoch [261/1000], Loss: 295923.7500\n",
      "Epoch [266/1000], Loss: 286381.3438\n",
      "Epoch [271/1000], Loss: 285858.1562\n",
      "Epoch [276/1000], Loss: 284137.9688\n",
      "Epoch [281/1000], Loss: 283586.1250\n",
      "Epoch [286/1000], Loss: 281724.5625\n",
      "Epoch [291/1000], Loss: 280991.4375\n",
      "Epoch [296/1000], Loss: 280349.0938\n",
      "Epoch [301/1000], Loss: 279669.5625\n",
      "Epoch [306/1000], Loss: 279207.3750\n",
      "Epoch [311/1000], Loss: 279316.8125\n",
      "Epoch [316/1000], Loss: 278470.4375\n",
      "Epoch [321/1000], Loss: 281410.3750\n",
      "Epoch [326/1000], Loss: 336236.2812\n",
      "Epoch [331/1000], Loss: 284821.2812\n",
      "Epoch [336/1000], Loss: 306312.9062\n",
      "Epoch [341/1000], Loss: 276921.5312\n",
      "Epoch [346/1000], Loss: 284108.5312\n",
      "Epoch [351/1000], Loss: 279153.1875\n",
      "Epoch [356/1000], Loss: 275600.1562\n",
      "Epoch [361/1000], Loss: 275717.2812\n",
      "Epoch [366/1000], Loss: 275738.4688\n",
      "Epoch [371/1000], Loss: 275116.4375\n",
      "Epoch [376/1000], Loss: 274305.6875\n",
      "Epoch [381/1000], Loss: 273371.6562\n",
      "Epoch [386/1000], Loss: 273031.3125\n",
      "Epoch [391/1000], Loss: 272559.4375\n",
      "Epoch [396/1000], Loss: 272616.5312\n",
      "Epoch [401/1000], Loss: 272631.4062\n",
      "Epoch [406/1000], Loss: 320329.0312\n",
      "Epoch [411/1000], Loss: 282510.6250\n",
      "Epoch [416/1000], Loss: 302596.1875\n",
      "Epoch [421/1000], Loss: 288593.3125\n",
      "Epoch [426/1000], Loss: 274093.3438\n",
      "Epoch [431/1000], Loss: 280288.5312\n",
      "Epoch [436/1000], Loss: 272121.5938\n",
      "Epoch [441/1000], Loss: 272258.1875\n",
      "Epoch [446/1000], Loss: 274044.4375\n",
      "Epoch [451/1000], Loss: 272972.3125\n",
      "Epoch [456/1000], Loss: 271271.1250\n",
      "Epoch [461/1000], Loss: 270570.2812\n",
      "Epoch [466/1000], Loss: 269716.5938\n",
      "Epoch [471/1000], Loss: 269962.6250\n",
      "Epoch [476/1000], Loss: 270033.2500\n",
      "Epoch [481/1000], Loss: 278218.3438\n",
      "Epoch [486/1000], Loss: 273158.2188\n",
      "Epoch [491/1000], Loss: 270332.9375\n",
      "Epoch [496/1000], Loss: 270364.5312\n",
      "Epoch [501/1000], Loss: 269725.4062\n",
      "Epoch [506/1000], Loss: 268178.2812\n",
      "Epoch [511/1000], Loss: 267547.5000\n",
      "Epoch [516/1000], Loss: 267745.9688\n",
      "Epoch [521/1000], Loss: 268940.1875\n",
      "Epoch [526/1000], Loss: 333943.5312\n",
      "Epoch [531/1000], Loss: 298136.4375\n",
      "Epoch [536/1000], Loss: 276093.2188\n",
      "Epoch [541/1000], Loss: 274249.8750\n",
      "Epoch [546/1000], Loss: 269486.8438\n",
      "Epoch [551/1000], Loss: 269145.6250\n",
      "Epoch [556/1000], Loss: 269112.5000\n",
      "Epoch [561/1000], Loss: 267361.4688\n",
      "Epoch [566/1000], Loss: 266604.9062\n",
      "Epoch [571/1000], Loss: 266268.5938\n",
      "Epoch [576/1000], Loss: 265858.1250\n",
      "Epoch [581/1000], Loss: 265862.5625\n",
      "Epoch [586/1000], Loss: 265491.5625\n",
      "Epoch [591/1000], Loss: 265448.2812\n",
      "Epoch [596/1000], Loss: 265457.8750\n",
      "Epoch [601/1000], Loss: 266015.8125\n",
      "Epoch [606/1000], Loss: 268062.8125\n",
      "Epoch [611/1000], Loss: 272818.1562\n",
      "Epoch [616/1000], Loss: 266102.7500\n",
      "Epoch [621/1000], Loss: 267014.8750\n",
      "Epoch [626/1000], Loss: 265478.4688\n",
      "Epoch [631/1000], Loss: 263761.1562\n",
      "Epoch [636/1000], Loss: 263542.0938\n",
      "Epoch [641/1000], Loss: 266513.0312\n",
      "Epoch [646/1000], Loss: 347493.7500\n",
      "Epoch [651/1000], Loss: 291419.8438\n",
      "Epoch [656/1000], Loss: 280848.0938\n",
      "Epoch [661/1000], Loss: 266446.1250\n",
      "Epoch [666/1000], Loss: 270958.2812\n",
      "Epoch [671/1000], Loss: 266473.3438\n",
      "Epoch [676/1000], Loss: 265435.9062\n",
      "Epoch [681/1000], Loss: 264878.2188\n",
      "Epoch [686/1000], Loss: 263921.8438\n",
      "Epoch [691/1000], Loss: 263141.5625\n",
      "Epoch [696/1000], Loss: 262775.5000\n",
      "Epoch [701/1000], Loss: 262356.9375\n",
      "Epoch [706/1000], Loss: 261368.3125\n",
      "Epoch [711/1000], Loss: 261566.4531\n",
      "Epoch [716/1000], Loss: 261523.2031\n",
      "Epoch [721/1000], Loss: 260790.1875\n",
      "Epoch [726/1000], Loss: 260518.6094\n",
      "Epoch [731/1000], Loss: 260413.7500\n",
      "Epoch [736/1000], Loss: 260912.9531\n",
      "Epoch [741/1000], Loss: 273645.2188\n",
      "Epoch [746/1000], Loss: 269628.6875\n",
      "Epoch [751/1000], Loss: 261284.3750\n",
      "Epoch [756/1000], Loss: 263112.9375\n",
      "Epoch [761/1000], Loss: 264070.4688\n",
      "Epoch [766/1000], Loss: 262795.3750\n",
      "Epoch [771/1000], Loss: 260013.0781\n",
      "Epoch [776/1000], Loss: 261692.4219\n",
      "Epoch [781/1000], Loss: 262811.3125\n",
      "Epoch [786/1000], Loss: 266461.6875\n",
      "Epoch [791/1000], Loss: 260064.8750\n",
      "Epoch [796/1000], Loss: 261462.1562\n",
      "Epoch [801/1000], Loss: 258749.6406\n",
      "Epoch [806/1000], Loss: 261056.3281\n",
      "Epoch [811/1000], Loss: 259911.5156\n",
      "Epoch [816/1000], Loss: 259677.9688\n",
      "Epoch [821/1000], Loss: 274021.4375\n",
      "Epoch [826/1000], Loss: 273172.1562\n",
      "Epoch [831/1000], Loss: 260001.2500\n",
      "Epoch [836/1000], Loss: 263692.4062\n",
      "Epoch [841/1000], Loss: 261463.4844\n",
      "Epoch [846/1000], Loss: 260783.4219\n",
      "Epoch [851/1000], Loss: 259142.9062\n",
      "Epoch [856/1000], Loss: 257565.0312\n",
      "Epoch [861/1000], Loss: 258894.7969\n",
      "Epoch [866/1000], Loss: 259116.8125\n",
      "Epoch [871/1000], Loss: 256984.5938\n",
      "Epoch [876/1000], Loss: 257699.5000\n",
      "Epoch [881/1000], Loss: 257951.6875\n",
      "Epoch [886/1000], Loss: 258632.2500\n",
      "Epoch [891/1000], Loss: 262222.8438\n",
      "Epoch [896/1000], Loss: 257889.7656\n",
      "Epoch [901/1000], Loss: 258726.4062\n",
      "Epoch [906/1000], Loss: 256586.5625\n",
      "Epoch [911/1000], Loss: 255840.2188\n",
      "Epoch [916/1000], Loss: 256403.4688\n",
      "Epoch [921/1000], Loss: 255505.1250\n",
      "Epoch [926/1000], Loss: 255176.4219\n",
      "Epoch [931/1000], Loss: 255144.1406\n",
      "Epoch [936/1000], Loss: 257729.4844\n",
      "Epoch [941/1000], Loss: 276489.3125\n",
      "Epoch [946/1000], Loss: 261006.5000\n",
      "Epoch [951/1000], Loss: 255909.0469\n",
      "Epoch [956/1000], Loss: 265125.0625\n",
      "Epoch [961/1000], Loss: 254489.4062\n",
      "Epoch [966/1000], Loss: 257437.2500\n",
      "Epoch [971/1000], Loss: 253733.3906\n",
      "Epoch [976/1000], Loss: 261098.2031\n",
      "Epoch [981/1000], Loss: 278652.7812\n",
      "Epoch [986/1000], Loss: 262957.8125\n",
      "Epoch [991/1000], Loss: 259413.4844\n",
      "Epoch [996/1000], Loss: 263587.3750\n"
     ]
    }
   ],
   "source": [
    "# Training loop\n",
    "epochs = 1000\n",
    "train_losses = []\n",
    "\n",
    "for epoch in range(epochs):\n",
    "    optimizer.zero_grad()\n",
    "    outputs = model(train_x_tensor)\n",
    "    loss = criterion(outputs, train_y_tensor)\n",
    "    train_losses.append(loss.item())\n",
    "    loss.backward()\n",
    "    optimizer.step()\n",
    "\n",
    "    if epoch % 5 == 0:\n",
    "        print(f'Epoch [{epoch+1}/{epochs}], Loss: {loss.item():.4f}')\n"
   ]
  },
  {
   "cell_type": "code",
   "execution_count": 444,
   "metadata": {},
   "outputs": [
    {
     "data": {
      "image/png": "[encoded data removed]",
      "text/plain": [
       "<Figure size 432x288 with 1 Axes>"
      ]
     },
     "metadata": {
      "needs_background": "light"
     },
     "output_type": "display_data"
    }
   ],
   "source": [
    "#plot the training loss\n",
    "plt.plot(train_losses)\n",
    "plt.xlabel(\"Epochs\")\n",
    "plt.ylabel(\"MSE Loss\")\n",
    "plt.show()"
   ]
  },
  {
   "cell_type": "code",
   "execution_count": 445,
   "metadata": {},
   "outputs": [
    {
     "data": {
      "text/plain": [
       "torch.Size([1092, 14, 7])"
      ]
     },
     "execution_count": 445,
     "metadata": {},
     "output_type": "execute_result"
    }
   ],
   "source": [
    "X.shape"
   ]
  },
  {
   "cell_type": "code",
   "execution_count": 446,
   "metadata": {},
   "outputs": [],
   "source": [
    "# make a forecast\n",
    "def forecast(model, history, n_input):\n",
    "  # flatten data\n",
    "  data = array(history)\n",
    "  data = data.reshape((data.shape[0]*data.shape[1], data.shape[2]))\n",
    "  # retrieve last observations for input data\n",
    "  input_x = data[-n_input:, :]\n",
    "  # print(input_x.shape)\n",
    "  # reshape into n input arrays\n",
    "  input_x = torch.tensor(input_x, dtype=torch.float32).view(1, n_input, 7)\n",
    "  # print(input_x.shape)\n",
    "  # forecast the next week\n",
    "  yhat = model.forward(input_x)\n",
    "  # we only want the vector forecast\n",
    "  yhat = yhat[0]\n",
    "  return yhat\n"
   ]
  },
  {
   "cell_type": "code",
   "execution_count": 447,
   "metadata": {},
   "outputs": [],
   "source": [
    "# evaluate one or more weekly forecasts against expected values\n",
    "def evaluate_forecasts(actual, predicted):\n",
    "  scores = list()\n",
    "  # calculate an RMSE score for each day\n",
    "  for i in range(actual.shape[1]):\n",
    "    # calculate mse\n",
    "    mse = mean_squared_error(actual[:, i], predicted[:, i])\n",
    "    # calculate rmse\n",
    "    rmse = np.sqrt(mse)\n",
    "    # store\n",
    "    scores.append(rmse)\n",
    "    # calculate overall RMSE\n",
    "    s=0\n",
    "    for row in range(actual.shape[0]):\n",
    "        for col in range(actual.shape[1]):\n",
    "            s += (actual[row, col] - predicted[row, col])**2\n",
    "            score = np.sqrt(s / (actual.shape[0] * actual.shape[1]))\n",
    "  return score, scores"
   ]
  },
  {
   "cell_type": "code",
   "execution_count": 448,
   "metadata": {},
   "outputs": [],
   "source": [
    "# Model Evaluation\n",
    "\n",
    "# evaluate a single model\n",
    "def evaluate_model(model, train, test, n_input):\n",
    " \n",
    "  # history is a list of weekly data\n",
    "  history = [x for x in train]\n",
    "  # walk-forward validation over each week\n",
    "  predictions = list()\n",
    "  for i in range(len(test)):\n",
    "    # predict the week\n",
    "    yhat_sequence = forecast(model, history, n_input)\n",
    "    # store the predictions\n",
    "    predictions.append(yhat_sequence.tolist())\n",
    "    # get real observation and add to history for predicting the next week\n",
    "    history.append(test[i, :])\n",
    "  # evaluate predictions days for each week\n",
    "  predictions = array(predictions)\n",
    "  # print(predictions)\n",
    "  score, scores = evaluate_forecasts(test[:, :, 0], predictions)\n",
    "  return score, scores\n"
   ]
  },
  {
   "cell_type": "code",
   "execution_count": 449,
   "metadata": {},
   "outputs": [
    {
     "data": {
      "text/plain": [
       "array([[2083.454  , 1604.132  , 2219.78   , 1777.18   , 1769.442  ,\n",
       "        1797.208  , 2336.9    ],\n",
       "       [2508.466  , 1518.684  , 2190.558  , 2390.4    , 2514.208  ,\n",
       "        2196.76   , 2150.112  ],\n",
       "       [1906.556  , 1881.098  , 2433.508  , 2351.728  , 2137.856  ,\n",
       "        1790.626  , 2611.502  ],\n",
       "       [2269.42   , 1930.51   , 2067.564  , 2760.902  , 2110.234  ,\n",
       "        2092.99   , 2842.728  ],\n",
       "       [1799.196  , 1693.778  , 2157.432  , 2903.014  , 2316.27   ,\n",
       "        2098.892  , 2712.986  ],\n",
       "       [1625.708  , 2582.238  , 2420.932  , 1948.196  , 1369.768  ,\n",
       "        1892.998  , 2351.556  ],\n",
       "       [1688.35   , 2097.132  , 1797.756  , 2054.56   , 1761.156  ,\n",
       "        1953.572  , 1983.728  ],\n",
       "       [2740.314  , 1474.036  , 1461.28   , 1914.278  , 1880.204  ,\n",
       "        2120.156  , 1765.056  ],\n",
       "       [ 711.666  , 1298.728  ,  766.906  ,  935.834  ,  682.88   ,\n",
       "        1133.726  ,  794.712  ],\n",
       "       [1372.472  , 2557.098  , 1760.112  , 1822.632  , 1951.09   ,\n",
       "        1645.424  , 2383.01   ],\n",
       "       [1566.714  , 1791.85   , 1542.65   , 2009.13   , 1562.682  ,\n",
       "        1663.384  ,  641.508  ],\n",
       "       [1262.9    , 1618.59   , 1822.162  , 1994.752  , 1679.884  ,\n",
       "        1651.284  , 1847.97   ],\n",
       "       [1798.214  , 1622.738  , 1906.454  , 1923.802  , 1687.44   ,\n",
       "        1648.622  , 1805.278  ],\n",
       "       [1690.388  , 1118.82   , 1825.852  , 1596.982  , 1649.22   ,\n",
       "        1233.35   , 1190.208  ],\n",
       "       [1603.152  , 1439.426  , 1512.704  , 1660.364  , 1872.178  ,\n",
       "        1562.062  , 1557.712  ],\n",
       "       [1476.106  , 1708.594  , 1833.628  , 1579.914  , 1460.904  ,\n",
       "        1180.536  , 1518.418  ],\n",
       "       [1542.742  , 1082.716  , 1250.94   ,  867.858  , 1103.724  ,\n",
       "        1118.628  , 1320.158  ],\n",
       "       [2187.91   , 1411.302  , 1516.96   , 1805.308  , 1299.25   ,\n",
       "        1644.004  , 1533.422  ],\n",
       "       [1566.51   , 1467.892  , 1571.368  , 2035.418  , 1554.266  ,\n",
       "        1722.146  , 1944.772  ],\n",
       "       [2100.426  , 1628.182  , 1421.184  , 1426.752  , 1153.898  ,\n",
       "        1294.396  , 2095.772  ],\n",
       "       [1487.556  , 1341.332  , 1198.626  , 1387.884  , 1323.342  ,\n",
       "        1398.164  , 2049.808  ],\n",
       "       [1665.7    , 1340.462  , 1268.964  ,  980.898  , 1394.186  ,\n",
       "        1420.554  , 2009.644  ],\n",
       "       [1746.792  , 1012.082  , 1362.034  , 1534.682  , 1215.19   ,\n",
       "        1470.672  , 1974.442  ],\n",
       "       [1674.356  , 1217.984  , 1223.966  , 1768.092  , 1028.018  ,\n",
       "        1332.316  , 1416.22   ],\n",
       "       [1672.55   , 1660.89   , 1520.588  , 1442.064  , 1095.78   ,\n",
       "        1099.438  ,  981.62   ],\n",
       "       [1139.964  , 1471.34   , 1368.008  , 1384.136  , 1349.002  ,\n",
       "        1140.928  , 1120.074  ],\n",
       "       [1538.088  , 1113.99   , 1005.934  ,  834.788  , 1212.652  ,\n",
       "        1083.478  , 1154.504  ],\n",
       "       [1193.572  , 1109.574  , 1382.114  , 1409.472  , 1635.816  ,\n",
       "         820.056  ,  806.352  ],\n",
       "       [ 812.038  ,  801.158  ,  855.824  , 1064.166  , 1164.446  ,\n",
       "        1176.158  ,  921.668  ],\n",
       "       [1130.41   ,  884.15   ,  952.36   ,  862.654  ,  549.104  ,\n",
       "         551.26   ,  554.616  ],\n",
       "       [ 555.664  ,  549.482  ,  615.212  ,  543.356  ,  533.476  ,\n",
       "         524.746  ,  527.476  ],\n",
       "       [ 528.46   ,  535.064  ,  544.758  ,  542.002  ,  529.698  ,\n",
       "         534.294  ,  554.27   ],\n",
       "       [1055.986  , 1129.73   , 1139.47   , 1304.64   , 1304.64   ,\n",
       "        1304.64   , 1304.64   ],\n",
       "       [1260.266  ,  765.658  ,  722.948  ,  980.408  ,  757.252  ,\n",
       "        2030.65   , 1442.856  ],\n",
       "       [1668.48   , 1494.802  , 1365.106  , 1593.318  , 1392.492  ,\n",
       "        1346.414  , 1743.84   ],\n",
       "       [1323.018  , 1422.876  , 1451.854  , 1303.812  , 1238.714  ,\n",
       "        1328.108  , 1463.31   ],\n",
       "       [1612.092  , 1076.32   , 1430.678  ,  986.094  , 1339.738  ,\n",
       "        1497.608  , 1247.946  ],\n",
       "       [ 919.6    , 1682.832  , 1111.376  , 1510.394  , 1449.862  ,\n",
       "        1327.992  ,  281.79   ],\n",
       "       [ 210.23999,  210.23999,  638.764  , 1684.426  , 1248.278  ,\n",
       "        1504.82   , 1923.254  ],\n",
       "       [1830.684  , 1775.96   , 1854.624  , 1315.456  , 1809.954  ,\n",
       "        1510.456  , 1611.78   ],\n",
       "       [1998.904  , 1622.59   , 1579.692  , 2073.886  , 2135.122  ,\n",
       "        1596.324  , 1000.014  ],\n",
       "       [1047.382  , 2713.884  , 1925.978  , 1727.964  , 1355.198  ,\n",
       "        1668.892  , 2293.236  ],\n",
       "       [2392.992  , 1163.292  ,  945.904  , 1260.278  , 1463.326  ,\n",
       "        1204.422  , 2152.7    ],\n",
       "       [1476.43   , 1383.18   , 1191.082  , 1293.298  , 2555.146  ,\n",
       "        1736.088  , 1805.408  ],\n",
       "       [1673.816  , 1825.54   , 2022.098  , 1946.534  , 1773.592  ,\n",
       "        1836.822  , 2023.174  ],\n",
       "       [2038.392  , 1747.382  , 1509.748  , 1582.032  , 1652.152  ,\n",
       "        1570.4    , 2197.006  ]], dtype=float32)"
      ]
     },
     "execution_count": 449,
     "metadata": {},
     "output_type": "execute_result"
    }
   ],
   "source": [
    "test[:, :, 0]"
   ]
  },
  {
   "cell_type": "code",
   "execution_count": 450,
   "metadata": {},
   "outputs": [
    {
     "name": "stdout",
     "output_type": "stream",
     "text": [
      "cnn: [423.335] 450.7, 431.4, 384.1, 428.7, 397.0, 336.7, 512.9\n"
     ]
    },
    {
     "data": {
      "image/png": "[encoded data removed]",
      "text/plain": [
       "<Figure size 432x288 with 1 Axes>"
      ]
     },
     "metadata": {
      "needs_background": "light"
     },
     "output_type": "display_data"
    }
   ],
   "source": [
    "\n",
    "# evaluate model and get scores\n",
    "n_input = 14\n",
    "score, scores = evaluate_model(model, train, test, n_input)\n",
    "# summarize scores\n",
    "summarize_scores('cnn', score, scores)\n",
    "# plot scores\n",
    "days = ['sun', 'mon', 'tue', 'wed', 'thr', 'fri', 'sat'] \n",
    "plt.plot(days, scores, marker='o', label='cnn') \n",
    "plt.show()"
   ]
  },
  {
   "cell_type": "code",
   "execution_count": 451,
   "metadata": {},
   "outputs": [
    {
     "name": "stdout",
     "output_type": "stream",
     "text": [
      "Collecting torchviz\n",
      "  Downloading torchviz-0.0.2.tar.gz (4.9 kB)\n",
      "Requirement already satisfied: torch in /Users/ajitkumarsingh/opt/anaconda3/lib/python3.9/site-packages (from torchviz) (2.0.1)\n",
      "Collecting graphviz\n",
      "  Downloading graphviz-0.20.1-py3-none-any.whl (47 kB)\n",
      "\u001b[K     |████████████████████████████████| 47 kB 2.5 MB/s eta 0:00:01\n",
      "\u001b[?25hRequirement already satisfied: jinja2 in /Users/ajitkumarsingh/opt/anaconda3/lib/python3.9/site-packages (from torch->torchviz) (2.11.3)\n",
      "Requirement already satisfied: filelock in /Users/ajitkumarsingh/opt/anaconda3/lib/python3.9/site-packages (from torch->torchviz) (3.6.0)\n",
      "Requirement already satisfied: networkx in /Users/ajitkumarsingh/opt/anaconda3/lib/python3.9/site-packages (from torch->torchviz) (2.7.1)\n",
      "Requirement already satisfied: typing-extensions in /Users/ajitkumarsingh/opt/anaconda3/lib/python3.9/site-packages (from torch->torchviz) (4.1.1)\n",
      "Requirement already satisfied: sympy in /Users/ajitkumarsingh/opt/anaconda3/lib/python3.9/site-packages (from torch->torchviz) (1.10.1)\n",
      "Requirement already satisfied: MarkupSafe>=0.23 in /Users/ajitkumarsingh/opt/anaconda3/lib/python3.9/site-packages (from jinja2->torch->torchviz) (2.0.1)\n",
      "Requirement already satisfied: mpmath>=0.19 in /Users/ajitkumarsingh/opt/anaconda3/lib/python3.9/site-packages (from sympy->torch->torchviz) (1.2.1)\n",
      "Building wheels for collected packages: torchviz\n",
      "  Building wheel for torchviz (setup.py) ... \u001b[?25ldone\n",
      "\u001b[?25h  Created wheel for torchviz: filename=torchviz-0.0.2-py3-none-any.whl size=4150 sha256=1c05e15ebc5054ff55f8177578c9d73a43f218c32b89700c7d04893a440da63d\n",
      "  Stored in directory: /Users/ajitkumarsingh/Library/Caches/pip/wheels/29/65/6e/db2515eb1dc760fecd36b40d54df65c1e18534013f1c037e2e\n",
      "Successfully built torchviz\n",
      "Installing collected packages: graphviz, torchviz\n",
      "Successfully installed graphviz-0.20.1 torchviz-0.0.2\n",
      "Requirement already satisfied: graphviz in /Users/ajitkumarsingh/opt/anaconda3/lib/python3.9/site-packages (0.20.1)\n"
     ]
    }
   ],
   "source": [
    "!pip install torchviz\n",
    "!pip install graphviz\n"
   ]
  },
  {
   "cell_type": "code",
   "execution_count": 453,
   "metadata": {},
   "outputs": [
    {
     "data": {
      "text/plain": [
       "'model_visualization.png'"
      ]
     },
     "execution_count": 453,
     "metadata": {},
     "output_type": "execute_result"
    }
   ],
   "source": [
    "import torch\n",
    "from torchviz import make_dot\n",
    "\n",
    "# Assuming 'model' is your PyTorch model and 'train_x_tensor' is your input tensor\n",
    "# Make a forward pass to get the output\n",
    "output = model(train_x_tensor)\n",
    "\n",
    "# Create a dot graph of the model\n",
    "# You need to provide a sample input tensor (for the shape)\n",
    "dot = make_dot(output, params=dict(list(model.named_parameters()) + [('train_x_tensor', train_x_tensor)]))\n",
    "\n",
    "# Save the dot graph to a file (or display it if you are in a Jupyter notebook)\n",
    "dot.render('model_visualization', format='png')\n"
   ]
  },
  {
   "cell_type": "code",
   "execution_count": 458,
   "metadata": {},
   "outputs": [
    {
     "data": {
      "text/plain": [
       "<matplotlib.image.AxesImage at 0x7fb74d49f1c0>"
      ]
     },
     "execution_count": 458,
     "metadata": {},
     "output_type": "execute_result"
    },
    {
     "data": {
      "image/png": "[encoded data removed]",
      "text/plain": [
       "<Figure size 432x288 with 1 Axes>"
      ]
     },
     "metadata": {
      "needs_background": "light"
     },
     "output_type": "display_data"
    }
   ],
   "source": [
    "im_read = plt.imread('model_visualization.png')\n",
    "plt.imshow(im_read)\n"
   ]
  },
  {
   "cell_type": "code",
   "execution_count": null,
   "metadata": {},
   "outputs": [],
   "source": []
  }
 ],
 "metadata": {
  "kernelspec": {
   "display_name": "base",
   "language": "python",
   "name": "python3"
  },
  "language_info": {
   "codemirror_mode": {
    "name": "ipython",
    "version": 3
   },
   "file_extension": ".py",
   "mimetype": "text/x-python",
   "name": "python",
   "nbconvert_exporter": "python",
   "pygments_lexer": "ipython3",
   "version": "3.9.12"
  },
  "orig_nbformat": 4
 },
 "nbformat": 4,
 "nbformat_minor": 2
}
